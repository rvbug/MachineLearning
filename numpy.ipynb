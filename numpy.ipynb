{
  "nbformat": 4,
  "nbformat_minor": 0,
  "metadata": {
    "colab": {
      "name": "7. numpy.ipynb",
      "provenance": [],
      "collapsed_sections": []
    },
    "kernelspec": {
      "name": "python3",
      "display_name": "Python 3"
    }
  },
  "cells": [
    {
      "cell_type": "code",
      "metadata": {
        "id": "btHd136m4_z3",
        "colab_type": "code",
        "outputId": "17c51fc6-a3b9-4606-b33d-96c74c35b7b7",
        "colab": {
          "base_uri": "https://localhost:8080/",
          "height": 87
        }
      },
      "source": [
        "import numpy as np\n",
        "\n",
        "npa  = np.array([1,2,3,4,5])\n",
        "print(npa)\n",
        "print(type(npa))\n",
        "\n",
        "npar = np.arange(10)\n",
        "print(npar)\n",
        "type(npar)\n",
        "\n",
        "\n",
        "npa\n",
        "npar"
      ],
      "execution_count": 0,
      "outputs": [
        {
          "output_type": "stream",
          "text": [
            "[1 2 3 4 5]\n",
            "<class 'numpy.ndarray'>\n",
            "[0 1 2 3 4 5 6 7 8 9]\n"
          ],
          "name": "stdout"
        },
        {
          "output_type": "execute_result",
          "data": {
            "text/plain": [
              "array([0, 1, 2, 3, 4, 5, 6, 7, 8, 9])"
            ]
          },
          "metadata": {
            "tags": []
          },
          "execution_count": 8
        }
      ]
    },
    {
      "cell_type": "code",
      "metadata": {
        "id": "dQ4SG6lC7lUj",
        "colab_type": "code",
        "outputId": "ec4ae7f6-667a-4ff6-837a-616002686a7a",
        "colab": {
          "base_uri": "https://localhost:8080/",
          "height": 87
        }
      },
      "source": [
        "print(npa.ndim)\n",
        "print(npar.ndim)\n",
        "print(len(npa))\n",
        "print(npa.shape)"
      ],
      "execution_count": 0,
      "outputs": [
        {
          "output_type": "stream",
          "text": [
            "1\n",
            "1\n",
            "5\n",
            "(5,)\n"
          ],
          "name": "stdout"
        }
      ]
    },
    {
      "cell_type": "code",
      "metadata": {
        "id": "Oe9d0C5L6UnX",
        "colab_type": "code",
        "outputId": "938aeab0-8de5-4caf-8bbb-4745d439b215",
        "colab": {
          "base_uri": "https://localhost:8080/",
          "height": 34
        }
      },
      "source": [
        "#python list versus python array - timing it to see how fast np arrays are\n",
        "\n",
        "L = range(100)\n",
        "%timeit [i**2 for i in L]"
      ],
      "execution_count": 0,
      "outputs": [
        {
          "output_type": "stream",
          "text": [
            "10000 loops, best of 3: 27.4 µs per loop\n"
          ],
          "name": "stdout"
        }
      ]
    },
    {
      "cell_type": "code",
      "metadata": {
        "id": "dAjzc5Zy6UqN",
        "colab_type": "code",
        "outputId": "62d79cd4-c4d6-43b1-9995-a9fc963cbfed",
        "colab": {
          "base_uri": "https://localhost:8080/",
          "height": 52
        }
      },
      "source": [
        "npr = np.arange(100)\n",
        "%timeit npr **2"
      ],
      "execution_count": 0,
      "outputs": [
        {
          "output_type": "stream",
          "text": [
            "The slowest run took 45.36 times longer than the fastest. This could mean that an intermediate result is being cached.\n",
            "1000000 loops, best of 3: 910 ns per loop\n"
          ],
          "name": "stdout"
        }
      ]
    },
    {
      "cell_type": "code",
      "metadata": {
        "id": "RLjjbx2V7lXK",
        "colab_type": "code",
        "outputId": "ce831f0f-91de-46e0-c113-0ee056b2ab86",
        "colab": {
          "base_uri": "https://localhost:8080/",
          "height": 105
        }
      },
      "source": [
        "npd = np.array([[1,2,3], [4,5,6]])\n",
        "print(npd)\n",
        "print(npd.ndim)\n",
        "print(npd.shape)\n",
        "print(len(npd))"
      ],
      "execution_count": 0,
      "outputs": [
        {
          "output_type": "stream",
          "text": [
            "[[1 2 3]\n",
            " [4 5 6]]\n",
            "2\n",
            "(2, 3)\n",
            "2\n"
          ],
          "name": "stdout"
        }
      ]
    },
    {
      "cell_type": "code",
      "metadata": {
        "id": "ZcUjaHkv9_m2",
        "colab_type": "code",
        "outputId": "758df79a-47d5-40d8-ca66-af7045138d3a",
        "colab": {
          "base_uri": "https://localhost:8080/",
          "height": 141
        }
      },
      "source": [
        "d3 = np.array([  [   [0,1], [2,3]   ], [   [4,5], [6,7] ]      ])\n",
        "print(d3)\n",
        "print(d3.shape)\n",
        "print(d3.ndim)"
      ],
      "execution_count": 0,
      "outputs": [
        {
          "output_type": "stream",
          "text": [
            "[[[0 1]\n",
            "  [2 3]]\n",
            "\n",
            " [[4 5]\n",
            "  [6 7]]]\n",
            "(2, 2, 2)\n",
            "3\n"
          ],
          "name": "stdout"
        }
      ]
    },
    {
      "cell_type": "code",
      "metadata": {
        "id": "RGWX4re39_pt",
        "colab_type": "code",
        "outputId": "a360f791-7c7f-4b75-f815-91b4dd13d522",
        "colab": {
          "base_uri": "https://localhost:8080/",
          "height": 34
        }
      },
      "source": [
        "d222 = np.array([[[1,2], [3,4]], [[5,6],[7,8]]])\n",
        "d33.shape\n",
        "#d33.ndim"
      ],
      "execution_count": 0,
      "outputs": [
        {
          "output_type": "execute_result",
          "data": {
            "text/plain": [
              "(2, 2, 2)"
            ]
          },
          "metadata": {
            "tags": []
          },
          "execution_count": 32
        }
      ]
    },
    {
      "cell_type": "code",
      "metadata": {
        "id": "0tr-JvEVBz_1",
        "colab_type": "code",
        "outputId": "d06c38b6-e909-4046-faef-05369e2827bf",
        "colab": {
          "base_uri": "https://localhost:8080/",
          "height": 34
        }
      },
      "source": [
        "# to create 2x3x5 3d matrix\n",
        "\n",
        "d235 = np.array([   \n",
        "    [\n",
        "        [1,2,3,4,5],\n",
        "        [5,6,7,8,9],\n",
        "        [10,1,2,3,4]   \n",
        "    ],\n",
        "    [\n",
        "        [1,2,3,4,5],\n",
        "        [5,6,7,8,9],\n",
        "        [10,1,2,3,4]\n",
        "    ] \n",
        "])\n",
        "\n",
        "d235.shape\n",
        "\n",
        "\n",
        "\n",
        "\n",
        "\n",
        "\n",
        "#a = np.zeros((2,3,5))\n",
        "#a\n"
      ],
      "execution_count": 0,
      "outputs": [
        {
          "output_type": "execute_result",
          "data": {
            "text/plain": [
              "(2, 3, 5)"
            ]
          },
          "metadata": {
            "tags": []
          },
          "execution_count": 42
        }
      ]
    },
    {
      "cell_type": "code",
      "metadata": {
        "id": "QId1lSE-B0Ck",
        "colab_type": "code",
        "outputId": "18bd41ac-8105-4806-9768-17525b4556cc",
        "colab": {
          "base_uri": "https://localhost:8080/",
          "height": 34
        }
      },
      "source": [
        "import numpy as np\n",
        "d335 = np.array ([\n",
        "    [\n",
        "        [1,2,3,4,5],\n",
        "        [5,6,7,8,9],\n",
        "        [10,1,2,3,4] \n",
        "    ],\n",
        "    [\n",
        "        [1,2,3,4,5],\n",
        "        [5,6,7,8,9],\n",
        "        [10,1,2,3,4] \n",
        "    ],\n",
        "    [\n",
        "        [1,2,3,4,5],\n",
        "        [5,6,7,8,9],\n",
        "        [10,1,2,3,4] \n",
        "    ]\n",
        "])\n",
        "\n",
        "d335.shape\n",
        "\n",
        "\n",
        "\n"
      ],
      "execution_count": 0,
      "outputs": [
        {
          "output_type": "execute_result",
          "data": {
            "text/plain": [
              "(3, 3, 5)"
            ]
          },
          "metadata": {
            "tags": []
          },
          "execution_count": 4
        }
      ]
    },
    {
      "cell_type": "code",
      "metadata": {
        "id": "tUugwDN6zpjG",
        "colab_type": "code",
        "outputId": "27fdf2cf-43fb-48ef-d975-2caa6c5cda2f",
        "colab": {
          "base_uri": "https://localhost:8080/",
          "height": 34
        }
      },
      "source": [
        "d121 = np.array ([\n",
        "  [\n",
        "      [1],\n",
        "      [4]  \n",
        "  ]  \n",
        "])\n",
        "\n",
        "d121.shape"
      ],
      "execution_count": 0,
      "outputs": [
        {
          "output_type": "execute_result",
          "data": {
            "text/plain": [
              "(1, 2, 1)"
            ]
          },
          "metadata": {
            "tags": []
          },
          "execution_count": 6
        }
      ]
    },
    {
      "cell_type": "code",
      "metadata": {
        "id": "iXLjBc8O1OFB",
        "colab_type": "code",
        "outputId": "15e55598-6ad4-4547-cc1c-b679824a1079",
        "colab": {
          "base_uri": "https://localhost:8080/",
          "height": 34
        }
      },
      "source": [
        "import numpy as np\n",
        "a = np.arange(10)\n",
        "a"
      ],
      "execution_count": 0,
      "outputs": [
        {
          "output_type": "execute_result",
          "data": {
            "text/plain": [
              "array([0, 1, 2, 3, 4, 5, 6, 7, 8, 9])"
            ]
          },
          "metadata": {
            "tags": []
          },
          "execution_count": 2
        }
      ]
    },
    {
      "cell_type": "code",
      "metadata": {
        "id": "AwKgDRxMBffA",
        "colab_type": "code",
        "outputId": "e1d7b78f-40c9-4dd7-df0f-68d472c58236",
        "colab": {
          "base_uri": "https://localhost:8080/",
          "height": 34
        }
      },
      "source": [
        "a1 = np.arange(1,10,2)\n",
        "a1"
      ],
      "execution_count": 0,
      "outputs": [
        {
          "output_type": "execute_result",
          "data": {
            "text/plain": [
              "array([1, 3, 5, 7, 9])"
            ]
          },
          "metadata": {
            "tags": []
          },
          "execution_count": 3
        }
      ]
    },
    {
      "cell_type": "code",
      "metadata": {
        "id": "Am8kFNerBfhl",
        "colab_type": "code",
        "outputId": "5aa6c4e1-131a-4e83-e530-11766e07d1d9",
        "colab": {
          "base_uri": "https://localhost:8080/",
          "height": 34
        }
      },
      "source": [
        "a = np.linspace(0,1,6)\n",
        "a\n"
      ],
      "execution_count": 0,
      "outputs": [
        {
          "output_type": "execute_result",
          "data": {
            "text/plain": [
              "array([0. , 0.2, 0.4, 0.6, 0.8, 1. ])"
            ]
          },
          "metadata": {
            "tags": []
          },
          "execution_count": 7
        }
      ]
    },
    {
      "cell_type": "code",
      "metadata": {
        "id": "PdNsbAOOBfku",
        "colab_type": "code",
        "outputId": "96574c85-ba79-4963-9022-4c8baae13f71",
        "colab": {
          "base_uri": "https://localhost:8080/",
          "height": 87
        }
      },
      "source": [
        "a = np.zeros((3,3))\n",
        "print(a)\n",
        "b = np.ones((3,3))\n",
        "b.ndim"
      ],
      "execution_count": 0,
      "outputs": [
        {
          "output_type": "stream",
          "text": [
            "[[0. 0. 0.]\n",
            " [0. 0. 0.]\n",
            " [0. 0. 0.]]\n"
          ],
          "name": "stdout"
        },
        {
          "output_type": "execute_result",
          "data": {
            "text/plain": [
              "2"
            ]
          },
          "metadata": {
            "tags": []
          },
          "execution_count": 12
        }
      ]
    },
    {
      "cell_type": "code",
      "metadata": {
        "id": "QmJ2PCfTDiMd",
        "colab_type": "code",
        "outputId": "508f0dfd-f59d-4f49-d55d-976d6a051f61",
        "colab": {
          "base_uri": "https://localhost:8080/",
          "height": 34
        }
      },
      "source": [
        "eye = np.eye(3)\n",
        "eye\n",
        "eye.ndim"
      ],
      "execution_count": 0,
      "outputs": [
        {
          "output_type": "execute_result",
          "data": {
            "text/plain": [
              "2"
            ]
          },
          "metadata": {
            "tags": []
          },
          "execution_count": 18
        }
      ]
    },
    {
      "cell_type": "code",
      "metadata": {
        "id": "FIjeebq2DiO7",
        "colab_type": "code",
        "outputId": "d0c695f8-f80a-44d5-cf90-65b5ebc1262e",
        "colab": {
          "base_uri": "https://localhost:8080/",
          "height": 34
        }
      },
      "source": [
        "eye2 = np.eye(2,3)\n",
        "eye2\n",
        "#eye2.shape\n",
        "eye2.ndim"
      ],
      "execution_count": 0,
      "outputs": [
        {
          "output_type": "execute_result",
          "data": {
            "text/plain": [
              "2"
            ]
          },
          "metadata": {
            "tags": []
          },
          "execution_count": 17
        }
      ]
    },
    {
      "cell_type": "code",
      "metadata": {
        "id": "28K0jKwoEKlS",
        "colab_type": "code",
        "outputId": "95981d94-aa7e-44b6-e6f4-b1e9c839a03d",
        "colab": {
          "base_uri": "https://localhost:8080/",
          "height": 34
        }
      },
      "source": [
        "a = np.diag([1,2,3,4])\n",
        "a\n",
        "a.shape\n",
        "a = np.diag(a)\n",
        "a"
      ],
      "execution_count": 0,
      "outputs": [
        {
          "output_type": "execute_result",
          "data": {
            "text/plain": [
              "array([1, 2, 3, 4])"
            ]
          },
          "metadata": {
            "tags": []
          },
          "execution_count": 23
        }
      ]
    },
    {
      "cell_type": "code",
      "metadata": {
        "id": "vxolzLhiEKnw",
        "colab_type": "code",
        "outputId": "05cad9af-512a-4d4b-9963-570c8b0a4392",
        "colab": {
          "base_uri": "https://localhost:8080/",
          "height": 34
        }
      },
      "source": [
        "a = np.random.rand(5)\n",
        "a\n",
        "#a.shape\n",
        "#a.ndim"
      ],
      "execution_count": 0,
      "outputs": [
        {
          "output_type": "execute_result",
          "data": {
            "text/plain": [
              "1"
            ]
          },
          "metadata": {
            "tags": []
          },
          "execution_count": 30
        }
      ]
    },
    {
      "cell_type": "code",
      "metadata": {
        "id": "UK40fvi9FZHx",
        "colab_type": "code",
        "outputId": "06a6584d-7783-44f0-b76e-a6d944702007",
        "colab": {
          "base_uri": "https://localhost:8080/",
          "height": 34
        }
      },
      "source": [
        "a = np.random.randn(4)\n",
        "a"
      ],
      "execution_count": 0,
      "outputs": [
        {
          "output_type": "execute_result",
          "data": {
            "text/plain": [
              "array([0.67385522, 0.25835991, 0.04434028, 0.77245607])"
            ]
          },
          "metadata": {
            "tags": []
          },
          "execution_count": 27
        }
      ]
    },
    {
      "cell_type": "code",
      "metadata": {
        "id": "GwCluHnBFZKS",
        "colab_type": "code",
        "outputId": "2bba72a4-5801-4765-90d5-336a89bca5cc",
        "colab": {
          "base_uri": "https://localhost:8080/",
          "height": 34
        }
      },
      "source": [
        "#numpy dtype\n",
        "\n",
        "a = np.arange(4, dtype='int') #'float64'\n",
        "a"
      ],
      "execution_count": 0,
      "outputs": [
        {
          "output_type": "execute_result",
          "data": {
            "text/plain": [
              "array([0, 1, 2, 3])"
            ]
          },
          "metadata": {
            "tags": []
          },
          "execution_count": 35
        }
      ]
    },
    {
      "cell_type": "code",
      "metadata": {
        "id": "sRkIgtLSGcsW",
        "colab_type": "code",
        "outputId": "b76820c3-9662-4a0b-f404-afbba1339df9",
        "colab": {
          "base_uri": "https://localhost:8080/",
          "height": 34
        }
      },
      "source": [
        "a = np.array([1+2j, 2+3j])\n",
        "a.dtype"
      ],
      "execution_count": 0,
      "outputs": [
        {
          "output_type": "execute_result",
          "data": {
            "text/plain": [
              "dtype('complex128')"
            ]
          },
          "metadata": {
            "tags": []
          },
          "execution_count": 40
        }
      ]
    },
    {
      "cell_type": "code",
      "metadata": {
        "id": "TUrYYibnGcuy",
        "colab_type": "code",
        "outputId": "73015c9c-28d3-461b-e1df-424fe3c67581",
        "colab": {
          "base_uri": "https://localhost:8080/",
          "height": 34
        }
      },
      "source": [
        "b = np.array(['True', 'False', 'True', 'False'])\n",
        "print(b.dtype)"
      ],
      "execution_count": 0,
      "outputs": [
        {
          "output_type": "stream",
          "text": [
            "<U5\n"
          ],
          "name": "stdout"
        }
      ]
    },
    {
      "cell_type": "code",
      "metadata": {
        "id": "Simnp6P6HHtU",
        "colab_type": "code",
        "outputId": "9b5dd101-6aef-428b-85e3-aae008a7ac3d",
        "colab": {
          "base_uri": "https://localhost:8080/",
          "height": 34
        }
      },
      "source": [
        "s = np.array(['Ra', 'Re'])\n",
        "s.dtype"
      ],
      "execution_count": 0,
      "outputs": [
        {
          "output_type": "execute_result",
          "data": {
            "text/plain": [
              "dtype('<U2')"
            ]
          },
          "metadata": {
            "tags": []
          },
          "execution_count": 45
        }
      ]
    },
    {
      "cell_type": "code",
      "metadata": {
        "id": "LeFh40s-IZSp",
        "colab_type": "code",
        "outputId": "5aaa8242-5871-46b5-83e4-5d5388437640",
        "colab": {
          "base_uri": "https://localhost:8080/",
          "height": 34
        }
      },
      "source": [
        "a = np.arange(10)\n",
        "a[5]"
      ],
      "execution_count": 0,
      "outputs": [
        {
          "output_type": "execute_result",
          "data": {
            "text/plain": [
              "5"
            ]
          },
          "metadata": {
            "tags": []
          },
          "execution_count": 46
        }
      ]
    },
    {
      "cell_type": "code",
      "metadata": {
        "id": "28oQAJu5IZVh",
        "colab_type": "code",
        "outputId": "f2e816bf-f5e8-4a9e-91e6-3c611ec68a18",
        "colab": {
          "base_uri": "https://localhost:8080/",
          "height": 87
        }
      },
      "source": [
        "a = np.diag([4,3,2,1])\n",
        "a"
      ],
      "execution_count": 0,
      "outputs": [
        {
          "output_type": "execute_result",
          "data": {
            "text/plain": [
              "array([[4, 0, 0, 0],\n",
              "       [0, 3, 0, 0],\n",
              "       [0, 0, 2, 0],\n",
              "       [0, 0, 0, 1]])"
            ]
          },
          "metadata": {
            "tags": []
          },
          "execution_count": 51
        }
      ]
    },
    {
      "cell_type": "code",
      "metadata": {
        "id": "ktJfb9BuIzjW",
        "colab_type": "code",
        "outputId": "e5df5e01-7132-4d38-f42d-af0c3288ffa3",
        "colab": {
          "base_uri": "https://localhost:8080/",
          "height": 34
        }
      },
      "source": [
        "print(a[2,3])"
      ],
      "execution_count": 0,
      "outputs": [
        {
          "output_type": "stream",
          "text": [
            "0\n"
          ],
          "name": "stdout"
        }
      ]
    },
    {
      "cell_type": "code",
      "metadata": {
        "id": "LL5gI0dMIzmI",
        "colab_type": "code",
        "outputId": "3684af7e-851f-4721-9402-c9a3971f20e7",
        "colab": {
          "base_uri": "https://localhost:8080/",
          "height": 87
        }
      },
      "source": [
        "a[2,3] = 5\n",
        "a"
      ],
      "execution_count": 0,
      "outputs": [
        {
          "output_type": "execute_result",
          "data": {
            "text/plain": [
              "array([[4, 0, 0, 0],\n",
              "       [0, 3, 0, 0],\n",
              "       [0, 0, 2, 5],\n",
              "       [0, 0, 0, 1]])"
            ]
          },
          "metadata": {
            "tags": []
          },
          "execution_count": 60
        }
      ]
    },
    {
      "cell_type": "code",
      "metadata": {
        "id": "Ps08MJSCP19W",
        "colab_type": "code",
        "outputId": "ff07cf97-a52d-49bf-8d08-c5dd385e8f72",
        "colab": {
          "base_uri": "https://localhost:8080/",
          "height": 34
        }
      },
      "source": [
        "#slicing\n",
        "\n",
        "a = np.arange(10)\n",
        "a"
      ],
      "execution_count": 0,
      "outputs": [
        {
          "output_type": "execute_result",
          "data": {
            "text/plain": [
              "array([0, 1, 2, 3, 4, 5, 6, 7, 8, 9])"
            ]
          },
          "metadata": {
            "tags": []
          },
          "execution_count": 61
        }
      ]
    },
    {
      "cell_type": "code",
      "metadata": {
        "id": "3lC8vw8tP2AM",
        "colab_type": "code",
        "outputId": "839b6c67-57e3-4f72-94eb-c63bacf06ea1",
        "colab": {
          "base_uri": "https://localhost:8080/",
          "height": 34
        }
      },
      "source": [
        "a[1:9:2]"
      ],
      "execution_count": 0,
      "outputs": [
        {
          "output_type": "execute_result",
          "data": {
            "text/plain": [
              "array([1, 3, 5, 7])"
            ]
          },
          "metadata": {
            "tags": []
          },
          "execution_count": 62
        }
      ]
    },
    {
      "cell_type": "code",
      "metadata": {
        "id": "6MikWLxSP2F2",
        "colab_type": "code",
        "outputId": "3e3c1a33-34c3-420c-baaf-bafb16b5a829",
        "colab": {
          "base_uri": "https://localhost:8080/",
          "height": 34
        }
      },
      "source": [
        "a = np.arange(10)\n",
        "a[5:] = 10\n",
        "a"
      ],
      "execution_count": 0,
      "outputs": [
        {
          "output_type": "execute_result",
          "data": {
            "text/plain": [
              "array([ 0,  1,  2,  3,  4, 10, 10, 10, 10, 10])"
            ]
          },
          "metadata": {
            "tags": []
          },
          "execution_count": 63
        }
      ]
    },
    {
      "cell_type": "code",
      "metadata": {
        "id": "TrmUyZvWP2JL",
        "colab_type": "code",
        "outputId": "ab52baa2-9e90-42c8-db82-fd1ae1080ef4",
        "colab": {
          "base_uri": "https://localhost:8080/",
          "height": 34
        }
      },
      "source": [
        "print(a) "
      ],
      "execution_count": 0,
      "outputs": [
        {
          "output_type": "stream",
          "text": [
            "[ 0  1  2  3  4 10 10 10 10 10]\n"
          ],
          "name": "stdout"
        }
      ]
    },
    {
      "cell_type": "code",
      "metadata": {
        "id": "7dJq-2iEP2L7",
        "colab_type": "code",
        "outputId": "b7d91982-ebdd-47a3-bb1a-c6fdfa0aac08",
        "colab": {
          "base_uri": "https://localhost:8080/",
          "height": 70
        }
      },
      "source": [
        "a = np.arange(10)\n",
        "b = np.arange(5)\n",
        "\n",
        "print(a)\n",
        "print(b)\n",
        "\n",
        "a[5:] = b[: : -1]\n",
        "print(a)"
      ],
      "execution_count": 0,
      "outputs": [
        {
          "output_type": "stream",
          "text": [
            "[0 1 2 3 4 5 6 7 8 9]\n",
            "[0 1 2 3 4]\n",
            "[0 1 2 3 4 4 3 2 1 0]\n"
          ],
          "name": "stdout"
        }
      ]
    },
    {
      "cell_type": "code",
      "metadata": {
        "id": "vJPhI6gSV0pc",
        "colab_type": "code",
        "outputId": "c75c95e6-12a5-4a41-ed82-2e901339bf79",
        "colab": {
          "base_uri": "https://localhost:8080/",
          "height": 70
        }
      },
      "source": [
        "a = np.arange(10)\n",
        "print(a)\n",
        "b = a[::2]\n",
        "print(b)\n",
        "np.shares_memory(a,b)"
      ],
      "execution_count": 0,
      "outputs": [
        {
          "output_type": "stream",
          "text": [
            "[0 1 2 3 4 5 6 7 8 9]\n",
            "[0 2 4 6 8]\n"
          ],
          "name": "stdout"
        },
        {
          "output_type": "execute_result",
          "data": {
            "text/plain": [
              "True"
            ]
          },
          "metadata": {
            "tags": []
          },
          "execution_count": 82
        }
      ]
    },
    {
      "cell_type": "code",
      "metadata": {
        "id": "K834LKIgV0ru",
        "colab_type": "code",
        "outputId": "07a030e0-2669-4ff4-fc7f-85fc5b7b2086",
        "colab": {
          "base_uri": "https://localhost:8080/",
          "height": 52
        }
      },
      "source": [
        "#force copy\n",
        "a = np.arange(10)\n",
        "b = a[::2].copy()\n",
        "a[1] = 10\n",
        "print(a)\n",
        "print(b)"
      ],
      "execution_count": 0,
      "outputs": [
        {
          "output_type": "stream",
          "text": [
            "[ 0 10  2  3  4  5  6  7  8  9]\n",
            "[0 2 4 6 8]\n"
          ],
          "name": "stdout"
        }
      ]
    },
    {
      "cell_type": "code",
      "metadata": {
        "id": "4z35x0NVYLiy",
        "colab_type": "code",
        "outputId": "e69cf86f-fe79-4f02-ee21-b234f1f04fe0",
        "colab": {
          "base_uri": "https://localhost:8080/",
          "height": 34
        }
      },
      "source": [
        "#mask\n",
        "ra = np.random.randint(0,20,15)\n",
        "ra"
      ],
      "execution_count": 0,
      "outputs": [
        {
          "output_type": "execute_result",
          "data": {
            "text/plain": [
              "array([ 7, 16, 17, 19, 14, 11, 11,  4,  2,  6,  9, 15, 10, 15, 15])"
            ]
          },
          "metadata": {
            "tags": []
          },
          "execution_count": 88
        }
      ]
    },
    {
      "cell_type": "code",
      "metadata": {
        "id": "eDZDAqn6YLlq",
        "colab_type": "code",
        "outputId": "a9031232-c906-416f-f9bd-4e1aaff7a47d",
        "colab": {
          "base_uri": "https://localhost:8080/",
          "height": 34
        }
      },
      "source": [
        "mask =  (ra % 2 == 0)\n",
        "extract = ra[mask]\n",
        "extract"
      ],
      "execution_count": 0,
      "outputs": [
        {
          "output_type": "execute_result",
          "data": {
            "text/plain": [
              "array([16, 14,  4,  2,  6, 10])"
            ]
          },
          "metadata": {
            "tags": []
          },
          "execution_count": 91
        }
      ]
    },
    {
      "cell_type": "code",
      "metadata": {
        "id": "5HNLUNo2YLoY",
        "colab_type": "code",
        "outputId": "37ffbc38-2356-486c-eec4-840adcb38073",
        "colab": {
          "base_uri": "https://localhost:8080/",
          "height": 70
        }
      },
      "source": [
        "#numpy operations\n",
        "\n",
        "a = np.arange(5)\n",
        "print(a)\n",
        "\n",
        "a= a+1\n",
        "print(a)\n",
        "\n",
        "a = a**2\n",
        "print(a)"
      ],
      "execution_count": 0,
      "outputs": [
        {
          "output_type": "stream",
          "text": [
            "[0 1 2 3 4]\n",
            "[1 2 3 4 5]\n",
            "[ 1  4  9 16 25]\n"
          ],
          "name": "stdout"
        }
      ]
    },
    {
      "cell_type": "code",
      "metadata": {
        "id": "dRZYXIx6dsDs",
        "colab_type": "code",
        "outputId": "48a02356-4055-4176-c9a7-1445d051ce77",
        "colab": {
          "base_uri": "https://localhost:8080/",
          "height": 87
        }
      },
      "source": [
        "a = np.arange(4)\n",
        "print(a)\n",
        "b = np.ones(4)\n",
        "print(b)\n",
        "\n",
        "print(a - b)\n",
        "print(a * b)"
      ],
      "execution_count": 0,
      "outputs": [
        {
          "output_type": "stream",
          "text": [
            "[0 1 2 3]\n",
            "[1. 1. 1. 1.]\n",
            "[-1.  0.  1.  2.]\n",
            "[0. 1. 2. 3.]\n"
          ],
          "name": "stdout"
        }
      ]
    },
    {
      "cell_type": "code",
      "metadata": {
        "id": "sG1QTeRWdsGj",
        "colab_type": "code",
        "outputId": "de444e21-ba3e-4897-cf4c-841d4ab76dd7",
        "colab": {
          "base_uri": "https://localhost:8080/",
          "height": 158
        }
      },
      "source": [
        "di = np.diag([1,2,3,4])\n",
        "print(di)\n",
        "\n",
        "print(di * di)\n",
        "\n",
        "print (d)"
      ],
      "execution_count": 0,
      "outputs": [
        {
          "output_type": "stream",
          "text": [
            "[[1 0 0 0]\n",
            " [0 2 0 0]\n",
            " [0 0 3 0]\n",
            " [0 0 0 4]]\n",
            "[[ 1  0  0  0]\n",
            " [ 0  4  0  0]\n",
            " [ 0  0  9  0]\n",
            " [ 0  0  0 16]]\n"
          ],
          "name": "stdout"
        }
      ]
    },
    {
      "cell_type": "code",
      "metadata": {
        "id": "zXX9XUHqdsJU",
        "colab_type": "code",
        "outputId": "d9fb6878-c502-49fe-a3f2-8c41da3f84db",
        "colab": {
          "base_uri": "https://localhost:8080/",
          "height": 87
        }
      },
      "source": [
        "import numpy as np\n",
        "\n",
        "di = np.diag([1,2,3,4])\n",
        "print(di.dot(di))"
      ],
      "execution_count": 0,
      "outputs": [
        {
          "output_type": "stream",
          "text": [
            "[[ 1  0  0  0]\n",
            " [ 0  4  0  0]\n",
            " [ 0  0  9  0]\n",
            " [ 0  0  0 16]]\n"
          ],
          "name": "stdout"
        }
      ]
    },
    {
      "cell_type": "code",
      "metadata": {
        "id": "n0hd2-yz_W3Y",
        "colab_type": "code",
        "outputId": "f3879340-d57c-4845-c1d5-f06cb8aba230",
        "colab": {
          "base_uri": "https://localhost:8080/",
          "height": 34
        }
      },
      "source": [
        "#comparison operator\n",
        "a = [1,2,3,4]\n",
        "b = [1.4,5.2]\n",
        "\n",
        "a == b\n",
        "\n",
        "a1 = np.array([1,2,3,4])\n",
        "a2 = np.array([2,1,3,4])\n",
        "\n",
        "#a1 == a2\n",
        "\n",
        "a1 > a2"
      ],
      "execution_count": 0,
      "outputs": [
        {
          "output_type": "execute_result",
          "data": {
            "text/plain": [
              "array([False,  True, False, False])"
            ]
          },
          "metadata": {
            "tags": []
          },
          "execution_count": 7
        }
      ]
    },
    {
      "cell_type": "code",
      "metadata": {
        "id": "vLHcYa4w_W6E",
        "colab_type": "code",
        "outputId": "54431461-b813-4661-e084-5fb73c94a599",
        "colab": {
          "base_uri": "https://localhost:8080/",
          "height": 34
        }
      },
      "source": [
        "e1 = np.array([1,2,3,4])\n",
        "e2 = np.array([1,2,3,4])\n",
        "\n",
        "print(np.array_equal(e1,e2))"
      ],
      "execution_count": 0,
      "outputs": [
        {
          "output_type": "stream",
          "text": [
            "True\n"
          ],
          "name": "stdout"
        }
      ]
    },
    {
      "cell_type": "code",
      "metadata": {
        "id": "nVSFx6pIDDJP",
        "colab_type": "code",
        "outputId": "188d8146-8902-4646-c936-3117dc79e62a",
        "colab": {
          "base_uri": "https://localhost:8080/",
          "height": 52
        }
      },
      "source": [
        "a1 = np.array([1,0,0,0,1], dtype=bool)\n",
        "a2 = np.array([0,0,0,0,1], dtype=bool)\n",
        "\n",
        "print(np.logical_or(a1,a2))\n",
        "print(np.logical_and(a1,a2))"
      ],
      "execution_count": 0,
      "outputs": [
        {
          "output_type": "stream",
          "text": [
            "[ True False False False  True]\n",
            "[False False False False  True]\n"
          ],
          "name": "stdout"
        }
      ]
    },
    {
      "cell_type": "code",
      "metadata": {
        "id": "OqGccaAUDDMt",
        "colab_type": "code",
        "outputId": "fc4c7d89-5b14-41ef-9d96-53f1e93f011b",
        "colab": {
          "base_uri": "https://localhost:8080/",
          "height": 105
        }
      },
      "source": [
        "a = np.arange(5)\n",
        "print(np.sin(a))\n",
        "print(np.log(a))\n",
        "print(np.exp(a))"
      ],
      "execution_count": 0,
      "outputs": [
        {
          "output_type": "stream",
          "text": [
            "[ 0.          0.84147098  0.90929743  0.14112001 -0.7568025 ]\n",
            "[      -inf 0.         0.69314718 1.09861229 1.38629436]\n",
            "[ 1.          2.71828183  7.3890561  20.08553692 54.59815003]\n"
          ],
          "name": "stdout"
        },
        {
          "output_type": "stream",
          "text": [
            "/usr/local/lib/python3.6/dist-packages/ipykernel_launcher.py:3: RuntimeWarning: divide by zero encountered in log\n",
            "  This is separate from the ipykernel package so we can avoid doing imports until\n"
          ],
          "name": "stderr"
        }
      ]
    },
    {
      "cell_type": "code",
      "metadata": {
        "id": "7DAlh1GqFHs2",
        "colab_type": "code",
        "outputId": "902e9fad-6c79-46db-a233-d93e26cc0100",
        "colab": {
          "base_uri": "https://localhost:8080/",
          "height": 34
        }
      },
      "source": [
        "a3 = np.arange(4)\n",
        "print(np.sum(a3))\n"
      ],
      "execution_count": 0,
      "outputs": [
        {
          "output_type": "stream",
          "text": [
            "6\n"
          ],
          "name": "stdout"
        }
      ]
    },
    {
      "cell_type": "code",
      "metadata": {
        "id": "KFJeZlKnFHvu",
        "colab_type": "code",
        "outputId": "9b6b03c2-0694-48c7-97cf-38c25079d8dd",
        "colab": {
          "base_uri": "https://localhost:8080/",
          "height": 52
        }
      },
      "source": [
        "ax = np.array([[1,1], [2,2]])\n",
        "print(ax)"
      ],
      "execution_count": 0,
      "outputs": [
        {
          "output_type": "stream",
          "text": [
            "[[1 1]\n",
            " [2 2]]\n"
          ],
          "name": "stdout"
        }
      ]
    },
    {
      "cell_type": "code",
      "metadata": {
        "id": "pOGwEGxyFHy3",
        "colab_type": "code",
        "outputId": "7f1e61f2-b0ae-449c-d501-1a11619197d5",
        "colab": {
          "base_uri": "https://localhost:8080/",
          "height": 34
        }
      },
      "source": [
        "ax.sum(axis=0) #col addition if axis=0\n"
      ],
      "execution_count": 0,
      "outputs": [
        {
          "output_type": "execute_result",
          "data": {
            "text/plain": [
              "array([3, 3])"
            ]
          },
          "metadata": {
            "tags": []
          },
          "execution_count": 20
        }
      ]
    },
    {
      "cell_type": "code",
      "metadata": {
        "id": "xvA2hsbOFH1v",
        "colab_type": "code",
        "outputId": "1b6ce59f-27c5-44c9-8be8-ac26bc9590d9",
        "colab": {
          "base_uri": "https://localhost:8080/",
          "height": 34
        }
      },
      "source": [
        "x = np.array([1,2,3])\n",
        "x.min()\n",
        "x.max()"
      ],
      "execution_count": 0,
      "outputs": [
        {
          "output_type": "execute_result",
          "data": {
            "text/plain": [
              "3"
            ]
          },
          "metadata": {
            "tags": []
          },
          "execution_count": 22
        }
      ]
    },
    {
      "cell_type": "code",
      "metadata": {
        "id": "NVVi1uIjIIld",
        "colab_type": "code",
        "colab": {}
      },
      "source": [
        "import numpy as np\n",
        "#np.all(['True', 'False'])\n",
        "#np.any(['True', 'False'])"
      ],
      "execution_count": 0,
      "outputs": []
    },
    {
      "cell_type": "code",
      "metadata": {
        "id": "OcBIjZfeRiWX",
        "colab_type": "code",
        "outputId": "bb622eab-918c-47c3-d15b-41f937cacb53",
        "colab": {
          "base_uri": "https://localhost:8080/",
          "height": 70
        }
      },
      "source": [
        "a = np.array([1,2,3,4])\n",
        "b = np.ones(4)\n",
        "print(a)\n",
        "print(b)\n",
        "#b = b ** 2\n",
        "#print(b)\n",
        "a -b "
      ],
      "execution_count": 0,
      "outputs": [
        {
          "output_type": "stream",
          "text": [
            "[1 2 3 4]\n",
            "[1. 1. 1. 1.]\n"
          ],
          "name": "stdout"
        },
        {
          "output_type": "execute_result",
          "data": {
            "text/plain": [
              "array([0., 1., 2., 3.])"
            ]
          },
          "metadata": {
            "tags": []
          },
          "execution_count": 7
        }
      ]
    },
    {
      "cell_type": "code",
      "metadata": {
        "id": "HEOuhlQMIItM",
        "colab_type": "code",
        "outputId": "cd4ba597-c940-4d59-aa18-7b46aef959c0",
        "colab": {
          "base_uri": "https://localhost:8080/",
          "height": 176
        }
      },
      "source": [
        "c = np.diag([1,2,3,4])\n",
        "c\n",
        "print(c * c) #similar to c.dot(c)\n",
        "print(\"-=-=-=-=-\")\n",
        "print(c.dot(c))"
      ],
      "execution_count": 0,
      "outputs": [
        {
          "output_type": "stream",
          "text": [
            "[[ 1  0  0  0]\n",
            " [ 0  4  0  0]\n",
            " [ 0  0  9  0]\n",
            " [ 0  0  0 16]]\n",
            "-=-=-=-=-\n",
            "[[ 1  0  0  0]\n",
            " [ 0  4  0  0]\n",
            " [ 0  0  9  0]\n",
            " [ 0  0  0 16]]\n"
          ],
          "name": "stdout"
        }
      ]
    },
    {
      "cell_type": "code",
      "metadata": {
        "id": "q2MTUEeBSSrR",
        "colab_type": "code",
        "outputId": "3dbc6dbe-e8a3-4c6b-b321-0f7a0a840fe4",
        "colab": {
          "base_uri": "https://localhost:8080/",
          "height": 34
        }
      },
      "source": [
        "a = np.array([1,2,3,4])\n",
        "b = np.array([1,2,4,5])\n",
        "a == b\n",
        "a >= b\n",
        "\n",
        "np.array_equal(a,b)"
      ],
      "execution_count": 0,
      "outputs": [
        {
          "output_type": "execute_result",
          "data": {
            "text/plain": [
              "False"
            ]
          },
          "metadata": {
            "tags": []
          },
          "execution_count": 17
        }
      ]
    },
    {
      "cell_type": "code",
      "metadata": {
        "id": "1M2NCXNPSq0_",
        "colab_type": "code",
        "outputId": "87b5d50f-a1cb-4aea-b303-c40cd9331a72",
        "colab": {
          "base_uri": "https://localhost:8080/",
          "height": 52
        }
      },
      "source": [
        "a = np.array([1,1,0,0], dtype=bool)\n",
        "b = np.array([1,1,0,0], dtype=bool)\n",
        "print(np.logical_and(a,b))\n",
        "print(np.logical_or(a,b))"
      ],
      "execution_count": 0,
      "outputs": [
        {
          "output_type": "stream",
          "text": [
            "[ True  True False False]\n",
            "[ True  True False False]\n"
          ],
          "name": "stdout"
        }
      ]
    },
    {
      "cell_type": "code",
      "metadata": {
        "id": "e5adhOPpSq_o",
        "colab_type": "code",
        "outputId": "1ec4c150-23b4-4e93-d951-c00ad33e0239",
        "colab": {
          "base_uri": "https://localhost:8080/",
          "height": 105
        }
      },
      "source": [
        "print(np.sin(a))\n",
        "print(np.exp(a))\n",
        "print(np.log(a))\n"
      ],
      "execution_count": 0,
      "outputs": [
        {
          "output_type": "stream",
          "text": [
            "[0.8413 0.8413 0.     0.    ]\n",
            "[2.719 2.719 1.    1.   ]\n",
            "[  0.   0. -inf -inf]\n"
          ],
          "name": "stdout"
        },
        {
          "output_type": "stream",
          "text": [
            "/usr/local/lib/python3.6/dist-packages/ipykernel_launcher.py:3: RuntimeWarning: divide by zero encountered in log\n",
            "  This is separate from the ipykernel package so we can avoid doing imports until\n"
          ],
          "name": "stderr"
        }
      ]
    },
    {
      "cell_type": "code",
      "metadata": {
        "id": "jwD3ZiMhSrG7",
        "colab_type": "code",
        "outputId": "e33a9432-3300-49a8-9db0-c49d16aabd37",
        "colab": {
          "base_uri": "https://localhost:8080/",
          "height": 52
        }
      },
      "source": [
        "x = np.array([[1,2], [2,3]])\n",
        "print(sum(x))\n",
        "print(x.sum (axis=1)) #row addition"
      ],
      "execution_count": 0,
      "outputs": [
        {
          "output_type": "stream",
          "text": [
            "[3 5]\n",
            "[3 5]\n"
          ],
          "name": "stdout"
        }
      ]
    },
    {
      "cell_type": "code",
      "metadata": {
        "id": "31IRehWeTcd5",
        "colab_type": "code",
        "outputId": "36e23d47-23a5-4e10-e82a-4ecbe8eaa1d1",
        "colab": {
          "base_uri": "https://localhost:8080/",
          "height": 34
        }
      },
      "source": [
        "x = np.array([6,2,3,4])\n",
        "x.min()\n",
        "x.max()\n",
        "x.argmin()\n",
        "x.argmax()"
      ],
      "execution_count": 0,
      "outputs": [
        {
          "output_type": "execute_result",
          "data": {
            "text/plain": [
              "0"
            ]
          },
          "metadata": {
            "tags": []
          },
          "execution_count": 36
        }
      ]
    },
    {
      "cell_type": "code",
      "metadata": {
        "id": "Jt-OAZk2Tchv",
        "colab_type": "code",
        "outputId": "4556c8f8-dd75-4474-df14-0c28b8894056",
        "colab": {
          "base_uri": "https://localhost:8080/",
          "height": 34
        }
      },
      "source": [
        "a = np.zeros([50,50])\n",
        "a.shape\n",
        "np.any(a != 0)\n",
        "a.dtype\n",
        "np.all(a == a)\n",
        "\n",
        "#b = np.zeros((50,50))  \n",
        "#b.shape\n",
        "#b.ndmin   -> not working\n",
        "#np.any(a !=0)\n"
      ],
      "execution_count": 0,
      "outputs": [
        {
          "output_type": "execute_result",
          "data": {
            "text/plain": [
              "True"
            ]
          },
          "metadata": {
            "tags": []
          },
          "execution_count": 51
        }
      ]
    },
    {
      "cell_type": "code",
      "metadata": {
        "id": "E9bOWP2dWzYa",
        "colab_type": "code",
        "outputId": "745d4509-e024-4f2c-9ab6-e25a7842f2a5",
        "colab": {
          "base_uri": "https://localhost:8080/",
          "height": 34
        }
      },
      "source": [
        "a = np.array([1,2,3,2])\n",
        "b = np.array([2,2,3,2])\n",
        "c = np.array([6,4,4,5])\n",
        "\n",
        "((a <= b) & (b <= c)).all()"
      ],
      "execution_count": 0,
      "outputs": [
        {
          "output_type": "execute_result",
          "data": {
            "text/plain": [
              "True"
            ]
          },
          "metadata": {
            "tags": []
          },
          "execution_count": 55
        }
      ]
    },
    {
      "cell_type": "code",
      "metadata": {
        "id": "sac4MAuYX6hE",
        "colab_type": "code",
        "colab": {}
      },
      "source": [
        ""
      ],
      "execution_count": 0,
      "outputs": []
    },
    {
      "cell_type": "code",
      "metadata": {
        "id": "JbDHf4iPX6kQ",
        "colab_type": "code",
        "outputId": "5fcf391d-e8af-4170-9a6a-b1da688e38d9",
        "colab": {
          "base_uri": "https://localhost:8080/",
          "height": 34
        }
      },
      "source": [
        "x = np.array([1,2,3,1])\n",
        "x.mean()\n",
        "np.median(x)"
      ],
      "execution_count": 0,
      "outputs": [
        {
          "output_type": "execute_result",
          "data": {
            "text/plain": [
              "1.5"
            ]
          },
          "metadata": {
            "tags": []
          },
          "execution_count": 58
        }
      ]
    },
    {
      "cell_type": "code",
      "metadata": {
        "id": "-AvMbYNpYy9f",
        "colab_type": "code",
        "outputId": "2bf20a2a-919b-42b5-c394-caa0a592aee1",
        "colab": {
          "base_uri": "https://localhost:8080/",
          "height": 390
        }
      },
      "source": [
        "#upload poplulation data\n",
        "\n",
        "data = np.loadtxt('populations.txt')\n",
        "print(data)"
      ],
      "execution_count": 0,
      "outputs": [
        {
          "output_type": "stream",
          "text": [
            "[[ 1900. 30000.  4000. 48300.]\n",
            " [ 1901. 47200.  6100. 48200.]\n",
            " [ 1902. 70200.  9800. 41500.]\n",
            " [ 1903. 77400. 35200. 38200.]\n",
            " [ 1904. 36300. 59400. 40600.]\n",
            " [ 1905. 20600. 41700. 39800.]\n",
            " [ 1906. 18100. 19000. 38600.]\n",
            " [ 1907. 21400. 13000. 42300.]\n",
            " [ 1908. 22000.  8300. 44500.]\n",
            " [ 1909. 25400.  9100. 42100.]\n",
            " [ 1910. 27100.  7400. 46000.]\n",
            " [ 1911. 40300.  8000. 46800.]\n",
            " [ 1912. 57000. 12300. 43800.]\n",
            " [ 1913. 76600. 19500. 40900.]\n",
            " [ 1914. 52300. 45700. 39400.]\n",
            " [ 1915. 19500. 51100. 39000.]\n",
            " [ 1916. 11200. 29700. 36700.]\n",
            " [ 1917.  7600. 15800. 41800.]\n",
            " [ 1918. 14600.  9700. 43300.]\n",
            " [ 1919. 16200. 10100. 41300.]\n",
            " [ 1920. 24700.  8600. 47300.]]\n"
          ],
          "name": "stdout"
        }
      ]
    },
    {
      "cell_type": "code",
      "metadata": {
        "id": "koAm9tulYzBe",
        "colab_type": "code",
        "outputId": "5fc8607f-dc65-4c39-c6c0-560b0fb00727",
        "colab": {
          "base_uri": "https://localhost:8080/",
          "height": 52
        }
      },
      "source": [
        "#data.T\n",
        "year, hare, lynex, carrots = data.T\n",
        "print(year)"
      ],
      "execution_count": 0,
      "outputs": [
        {
          "output_type": "stream",
          "text": [
            "[1900. 1901. 1902. 1903. 1904. 1905. 1906. 1907. 1908. 1909. 1910. 1911.\n",
            " 1912. 1913. 1914. 1915. 1916. 1917. 1918. 1919. 1920.]\n"
          ],
          "name": "stdout"
        }
      ]
    },
    {
      "cell_type": "code",
      "metadata": {
        "id": "e08L3X3LaNI4",
        "colab_type": "code",
        "outputId": "99f1480e-fc69-48b0-e457-fd7e692874b4",
        "colab": {
          "base_uri": "https://localhost:8080/",
          "height": 34
        }
      },
      "source": [
        "popl = data[:, 1:]\n",
        "popl\n",
        "#standard deviation\n",
        "popl.std(axis=0)\n",
        "\n",
        "#species having hightest popl each year\n",
        "species = np.argmax(popl, axis=1)\n",
        "print(species)"
      ],
      "execution_count": 0,
      "outputs": [
        {
          "output_type": "stream",
          "text": [
            "[2 2 0 0 1 1 2 2 2 2 2 2 0 0 0 1 2 2 2 2 2]\n"
          ],
          "name": "stdout"
        }
      ]
    },
    {
      "cell_type": "code",
      "metadata": {
        "id": "HfxBXopEaNOY",
        "colab_type": "code",
        "outputId": "7a93a174-1ebf-4ca0-e77a-27dcdfa18b1f",
        "colab": {
          "base_uri": "https://localhost:8080/",
          "height": 141
        }
      },
      "source": [
        "a = np.tile(np.arange(0,40,10), (3,1))\n",
        "print(a)\n",
        "a.T"
      ],
      "execution_count": 0,
      "outputs": [
        {
          "output_type": "stream",
          "text": [
            "[[ 0 10 20 30]\n",
            " [ 0 10 20 30]\n",
            " [ 0 10 20 30]]\n"
          ],
          "name": "stdout"
        },
        {
          "output_type": "execute_result",
          "data": {
            "text/plain": [
              "array([[ 0,  0,  0],\n",
              "       [10, 10, 10],\n",
              "       [20, 20, 20],\n",
              "       [30, 30, 30]])"
            ]
          },
          "metadata": {
            "tags": []
          },
          "execution_count": 82
        }
      ]
    },
    {
      "cell_type": "code",
      "metadata": {
        "id": "Zf7IlR-SaNL8",
        "colab_type": "code",
        "outputId": "27ec4052-e761-4c1b-e956-73ff63175572",
        "colab": {
          "base_uri": "https://localhost:8080/",
          "height": 87
        }
      },
      "source": [
        "b = np.array([0,1,2])\n",
        "b\n",
        "\n",
        "b.shape #(3,)\n",
        "a.shape\n",
        "\n",
        "a.T + b"
      ],
      "execution_count": 0,
      "outputs": [
        {
          "output_type": "execute_result",
          "data": {
            "text/plain": [
              "array([[ 0,  1,  2],\n",
              "       [10, 11, 12],\n",
              "       [20, 21, 22],\n",
              "       [30, 31, 32]])"
            ]
          },
          "metadata": {
            "tags": []
          },
          "execution_count": 87
        }
      ]
    },
    {
      "cell_type": "code",
      "metadata": {
        "id": "YHl4OU14iCJP",
        "colab_type": "code",
        "outputId": "fb5b12c0-45a9-4f2f-c1b8-25fdf575159f",
        "colab": {
          "base_uri": "https://localhost:8080/",
          "height": 105
        }
      },
      "source": [
        "a = np.array([[0,10,20,30]])\n",
        "a.shape\n",
        "print(a)\n",
        "b = np.array([1,2,3])\n",
        "\n",
        "a.T + b"
      ],
      "execution_count": 0,
      "outputs": [
        {
          "output_type": "stream",
          "text": [
            "[[ 0 10 20 30]]\n"
          ],
          "name": "stdout"
        },
        {
          "output_type": "execute_result",
          "data": {
            "text/plain": [
              "array([[ 1,  2,  3],\n",
              "       [11, 12, 13],\n",
              "       [21, 22, 23],\n",
              "       [31, 32, 33]])"
            ]
          },
          "metadata": {
            "tags": []
          },
          "execution_count": 90
        }
      ]
    },
    {
      "cell_type": "code",
      "metadata": {
        "id": "sydtKCyZiCNM",
        "colab_type": "code",
        "outputId": "97b0e03f-a246-4a02-8dc8-ab4ce6e09b07",
        "colab": {
          "base_uri": "https://localhost:8080/",
          "height": 176
        }
      },
      "source": [
        "#There is another way of doing this\n",
        "\n",
        "a = np.arange(0,40,10)\n",
        "a.shape #(4,)\n",
        "a.ndim #1D array\n",
        "print(a) #[0,10,20,30]\n",
        "\n",
        "a = a[:,np.newaxis] #add axis and becomes 2D array\n",
        "a.shape #(4,1)\n",
        "a.ndim #2D array\n",
        "print(a)\n",
        "print(a + b)"
      ],
      "execution_count": 0,
      "outputs": [
        {
          "output_type": "stream",
          "text": [
            "[ 0 10 20 30]\n",
            "[[ 0]\n",
            " [10]\n",
            " [20]\n",
            " [30]]\n",
            "[[ 1  2  3]\n",
            " [11 12 13]\n",
            " [21 22 23]\n",
            " [31 32 33]]\n"
          ],
          "name": "stdout"
        }
      ]
    },
    {
      "cell_type": "code",
      "metadata": {
        "id": "BXZQEUrbmx4e",
        "colab_type": "code",
        "outputId": "d2e87023-9ec5-42ae-b03b-7e82ee885f92",
        "colab": {
          "base_uri": "https://localhost:8080/",
          "height": 34
        }
      },
      "source": [
        "#flattening\n",
        "\n",
        "a = np.array([[1,2,3], [3,4,5]])\n",
        "a.shape\n",
        "a.ndim\n",
        "a.ravel()"
      ],
      "execution_count": 0,
      "outputs": [
        {
          "output_type": "execute_result",
          "data": {
            "text/plain": [
              "array([1, 2, 3, 3, 4, 5])"
            ]
          },
          "metadata": {
            "tags": []
          },
          "execution_count": 103
        }
      ]
    },
    {
      "cell_type": "code",
      "metadata": {
        "id": "YIj9YotumyAV",
        "colab_type": "code",
        "outputId": "edc64af4-d3ce-4271-ef5a-246ddfd2ec63",
        "colab": {
          "base_uri": "https://localhost:8080/",
          "height": 87
        }
      },
      "source": [
        "print(a.T)\n",
        "print(a.T.ravel())"
      ],
      "execution_count": 0,
      "outputs": [
        {
          "output_type": "stream",
          "text": [
            "[[1 3]\n",
            " [2 4]\n",
            " [3 5]]\n",
            "[1 3 2 4 3 5]\n"
          ],
          "name": "stdout"
        }
      ]
    },
    {
      "cell_type": "code",
      "metadata": {
        "id": "RJ_1oDdMmyEC",
        "colab_type": "code",
        "outputId": "419db894-adc2-4cb7-b63d-ca60dc6d0714",
        "colab": {
          "base_uri": "https://localhost:8080/",
          "height": 70
        }
      },
      "source": [
        "b = np.array([[2,3,5], [6,7,8]])\n",
        "br = b.ravel()\n",
        "print(br)\n",
        "br.reshape((2,3))"
      ],
      "execution_count": 0,
      "outputs": [
        {
          "output_type": "stream",
          "text": [
            "[2 3 5 6 7 8]\n"
          ],
          "name": "stdout"
        },
        {
          "output_type": "execute_result",
          "data": {
            "text/plain": [
              "array([[2, 3, 5],\n",
              "       [6, 7, 8]])"
            ]
          },
          "metadata": {
            "tags": []
          },
          "execution_count": 107
        }
      ]
    },
    {
      "cell_type": "code",
      "metadata": {
        "id": "4Hvgnv1CmyHr",
        "colab_type": "code",
        "colab": {}
      },
      "source": [
        "#3D matrix and shuffling\n",
        "\n",
        "a = np.arange(4*3*2)\n",
        "a.shape\n",
        "a = a.reshape((4,3,2))"
      ],
      "execution_count": 0,
      "outputs": []
    },
    {
      "cell_type": "code",
      "metadata": {
        "id": "FMNd-YB8z-HH",
        "colab_type": "code",
        "outputId": "28c34543-f7c9-4e3e-d6c8-c1bac1156cc4",
        "colab": {
          "base_uri": "https://localhost:8080/",
          "height": 301
        }
      },
      "source": [
        "print(a)\n",
        "a[0,2,1] #0th matrix, 2nd row and 1st col"
      ],
      "execution_count": 0,
      "outputs": [
        {
          "output_type": "stream",
          "text": [
            "[[[ 0  1]\n",
            "  [ 2  3]\n",
            "  [ 4  5]]\n",
            "\n",
            " [[ 6  7]\n",
            "  [ 8  9]\n",
            "  [10 11]]\n",
            "\n",
            " [[12 13]\n",
            "  [14 15]\n",
            "  [16 17]]\n",
            "\n",
            " [[18 19]\n",
            "  [20 21]\n",
            "  [22 23]]]\n"
          ],
          "name": "stdout"
        },
        {
          "output_type": "execute_result",
          "data": {
            "text/plain": [
              "5"
            ]
          },
          "metadata": {
            "tags": []
          },
          "execution_count": 121
        }
      ]
    },
    {
      "cell_type": "code",
      "metadata": {
        "id": "ZJPf1NxOz-LL",
        "colab_type": "code",
        "outputId": "74c3ce66-79c5-417a-9220-de5169bed250",
        "colab": {
          "base_uri": "https://localhost:8080/",
          "height": 52
        }
      },
      "source": [
        "a = np.arange(4)\n",
        "print(a)\n",
        "a.resize((8))\n",
        "print(a)"
      ],
      "execution_count": 0,
      "outputs": [
        {
          "output_type": "stream",
          "text": [
            "[0 1 2 3]\n",
            "[0 1 2 3 0 0 0 0]\n"
          ],
          "name": "stdout"
        }
      ]
    },
    {
      "cell_type": "code",
      "metadata": {
        "id": "BTDE4aC32LHV",
        "colab_type": "code",
        "outputId": "3561043c-45df-4c31-f961-3c5114be3f08",
        "colab": {
          "base_uri": "https://localhost:8080/",
          "height": 52
        }
      },
      "source": [
        "a = np.array([[5,1,7,], [6,1,4]])\n",
        "b = np.sort(a, axis=1)\n",
        "print(b)"
      ],
      "execution_count": 0,
      "outputs": [
        {
          "output_type": "stream",
          "text": [
            "[[1 5 7]\n",
            " [1 4 6]]\n"
          ],
          "name": "stdout"
        }
      ]
    },
    {
      "cell_type": "code",
      "metadata": {
        "id": "UL0Nm-cJHKkz",
        "colab_type": "code",
        "outputId": "6e1c91ea-07c3-417c-c389-8b4eb81ba9c9",
        "colab": {
          "base_uri": "https://localhost:8080/",
          "height": 52
        }
      },
      "source": [
        "a.sort(axis=0)\n",
        "print(a)"
      ],
      "execution_count": 0,
      "outputs": [
        {
          "output_type": "stream",
          "text": [
            "[[5 1 4]\n",
            " [6 1 7]]\n"
          ],
          "name": "stdout"
        }
      ]
    },
    {
      "cell_type": "code",
      "metadata": {
        "id": "dWHQBecXHKor",
        "colab_type": "code",
        "outputId": "b6510a16-965d-4ae0-f109-82f4ec14cf43",
        "colab": {
          "base_uri": "https://localhost:8080/",
          "height": 52
        }
      },
      "source": [
        "a = np.array([1,3,4,2])\n",
        "j = np.argsort(a) #sort the array and then show the indices\n",
        "\n",
        "print(j)\n",
        "print(a[j])"
      ],
      "execution_count": 0,
      "outputs": [
        {
          "output_type": "stream",
          "text": [
            "[0 3 1 2]\n",
            "[1 2 3 4]\n"
          ],
          "name": "stdout"
        }
      ]
    },
    {
      "cell_type": "code",
      "metadata": {
        "id": "xtmrLc94HKsR",
        "colab_type": "code",
        "colab": {}
      },
      "source": [
        ""
      ],
      "execution_count": 0,
      "outputs": []
    },
    {
      "cell_type": "code",
      "metadata": {
        "id": "uqAmNnnW2LK0",
        "colab_type": "code",
        "colab": {}
      },
      "source": [
        ""
      ],
      "execution_count": 0,
      "outputs": []
    }
  ]
}