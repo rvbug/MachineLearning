{
  "nbformat": 4,
  "nbformat_minor": 0,
  "metadata": {
    "colab": {
      "name": "RegularExpression.ipynb",
      "provenance": [],
      "collapsed_sections": []
    },
    "kernelspec": {
      "name": "python3",
      "display_name": "Python 3"
    }
  },
  "cells": [
    {
      "cell_type": "code",
      "metadata": {
        "id": "Uv4p3E7wwe2Q",
        "colab_type": "code",
        "colab": {}
      },
      "source": [
        "import re"
      ],
      "execution_count": 0,
      "outputs": []
    },
    {
      "cell_type": "code",
      "metadata": {
        "id": "T7Ll9juAwmuM",
        "colab_type": "code",
        "colab": {}
      },
      "source": [
        "text = \"The phone number of the agent is 408-555-1234. Call soon!\""
      ],
      "execution_count": 0,
      "outputs": []
    },
    {
      "cell_type": "code",
      "metadata": {
        "id": "7Fulce_5xIfW",
        "colab_type": "code",
        "colab": {
          "base_uri": "https://localhost:8080/",
          "height": 34
        },
        "outputId": "bd756fb9-0c65-453f-8598-9b6da77a8a90"
      },
      "source": [
        "print(text)"
      ],
      "execution_count": 3,
      "outputs": [
        {
          "output_type": "stream",
          "text": [
            "The phone number of the agent is 408-555-1234. Call soon!\n"
          ],
          "name": "stdout"
        }
      ]
    },
    {
      "cell_type": "code",
      "metadata": {
        "id": "l8xq-tk6xKJ1",
        "colab_type": "code",
        "colab": {
          "base_uri": "https://localhost:8080/",
          "height": 34
        },
        "outputId": "9e431035-1085-4ca4-86c1-7a6a91030ba9"
      },
      "source": [
        "pattern = \"phone\"\n",
        "re.search(pattern, text)\n",
        "# span below tells that the search string starts at 4 till 9"
      ],
      "execution_count": 5,
      "outputs": [
        {
          "output_type": "execute_result",
          "data": {
            "text/plain": [
              "<_sre.SRE_Match object; span=(4, 9), match='phone'>"
            ]
          },
          "metadata": {
            "tags": []
          },
          "execution_count": 5
        }
      ]
    },
    {
      "cell_type": "code",
      "metadata": {
        "id": "Ve4FguAFxQ5d",
        "colab_type": "code",
        "colab": {
          "base_uri": "https://localhost:8080/",
          "height": 87
        },
        "outputId": "5964da95-d31a-4b9b-d8f9-c2da284201d3"
      },
      "source": [
        "result = re.search(pattern, text)\n",
        "print(result.span())\n",
        "print(result)\n",
        "print(result.start())\n",
        "print(result.end())"
      ],
      "execution_count": 8,
      "outputs": [
        {
          "output_type": "stream",
          "text": [
            "(4, 9)\n",
            "<_sre.SRE_Match object; span=(4, 9), match='phone'>\n",
            "4\n",
            "9\n"
          ],
          "name": "stdout"
        }
      ]
    },
    {
      "cell_type": "code",
      "metadata": {
        "id": "SUgavSYoxj1Z",
        "colab_type": "code",
        "colab": {
          "base_uri": "https://localhost:8080/",
          "height": 34
        },
        "outputId": "c7122ceb-053b-4278-c007-ad0e96b35a9a"
      },
      "source": [
        "new_text = \"my phone is a new phone\"\n",
        "result_new = re.search(pattern, new_text)\n",
        "result_new.span()"
      ],
      "execution_count": 9,
      "outputs": [
        {
          "output_type": "execute_result",
          "data": {
            "text/plain": [
              "(3, 8)"
            ]
          },
          "metadata": {
            "tags": []
          },
          "execution_count": 9
        }
      ]
    },
    {
      "cell_type": "code",
      "metadata": {
        "id": "-KTBx-pMyNS8",
        "colab_type": "code",
        "colab": {
          "base_uri": "https://localhost:8080/",
          "height": 34
        },
        "outputId": "6bc81ffc-8c4c-44ba-e62d-86439755d1a4"
      },
      "source": [
        "# to find all occurance \n",
        "check = re.findall(\"phone\", new_text)\n",
        "check"
      ],
      "execution_count": 13,
      "outputs": [
        {
          "output_type": "execute_result",
          "data": {
            "text/plain": [
              "['phone', 'phone']"
            ]
          },
          "metadata": {
            "tags": []
          },
          "execution_count": 13
        }
      ]
    },
    {
      "cell_type": "code",
      "metadata": {
        "id": "OruX4ik6yTtW",
        "colab_type": "code",
        "colab": {
          "base_uri": "https://localhost:8080/",
          "height": 52
        },
        "outputId": "3065828c-b898-4b9a-e600-3b3773c4177d"
      },
      "source": [
        "for match in re.finditer(\"phone\", new_text):\n",
        "  print(match.span())"
      ],
      "execution_count": 15,
      "outputs": [
        {
          "output_type": "stream",
          "text": [
            "(3, 8)\n",
            "(18, 23)\n"
          ],
          "name": "stdout"
        }
      ]
    },
    {
      "cell_type": "code",
      "metadata": {
        "id": "jF1EIY1Tyt-a",
        "colab_type": "code",
        "colab": {}
      },
      "source": [
        "# # patterns\n",
        "# \\d - digit\n",
        "# \\w - alphanumeric\n",
        "# \\s - white space\n",
        "# \\D - non digit\n",
        "# \\W - alphanumeric\n",
        "# \\S - non white space"
      ],
      "execution_count": 0,
      "outputs": []
    },
    {
      "cell_type": "code",
      "metadata": {
        "id": "dkTNS6plzYZO",
        "colab_type": "code",
        "colab": {}
      },
      "source": [
        "text = \"My no is 408-555-1234 and 981-988-0123\""
      ],
      "execution_count": 0,
      "outputs": []
    },
    {
      "cell_type": "code",
      "metadata": {
        "id": "vNcb-Yl0zhDw",
        "colab_type": "code",
        "colab": {}
      },
      "source": [
        "pattern = r'\\d\\d\\d-\\d\\d\\d-\\d\\d\\d\\d'\n",
        "phone_number = re.search(pattern, text)\n",
        "all_phone = re.findall(pattern, text)\n",
        "iter_phone = re.finditer(pattern, text)"
      ],
      "execution_count": 0,
      "outputs": []
    },
    {
      "cell_type": "code",
      "metadata": {
        "id": "eYXwRA--zuAt",
        "colab_type": "code",
        "colab": {
          "base_uri": "https://localhost:8080/",
          "height": 70
        },
        "outputId": "c6b3885f-ba97-403e-f1b7-fe98a2b14553"
      },
      "source": [
        "print(phone_number)\n",
        "print(phone_number.group())\n",
        "print(all_phone)\n",
        "for ph in iter_phone:\n",
        "  print(ph)\n"
      ],
      "execution_count": 30,
      "outputs": [
        {
          "output_type": "stream",
          "text": [
            "<_sre.SRE_Match object; span=(9, 21), match='408-555-1234'>\n",
            "408-555-1234\n",
            "['408-555-1234', '981-988-0123']\n"
          ],
          "name": "stdout"
        }
      ]
    },
    {
      "cell_type": "code",
      "metadata": {
        "id": "nZznpR6mzvYD",
        "colab_type": "code",
        "colab": {}
      },
      "source": [
        "# Quantifiers\n",
        "# + one or more times\n",
        "# {3} - occurs 3 times\n",
        "# {2,4} - occurs 2 to 4 times\n",
        "# {3,} - 3 or more times\n",
        "# * - zero or more times\n",
        "# ? - once or none"
      ],
      "execution_count": 0,
      "outputs": []
    },
    {
      "cell_type": "code",
      "metadata": {
        "id": "DPcnSkSn2Dfp",
        "colab_type": "code",
        "colab": {}
      },
      "source": [
        "digit = re.search(r'(\\d{3})-\\d{3}-(\\d{4})', text)"
      ],
      "execution_count": 0,
      "outputs": []
    },
    {
      "cell_type": "code",
      "metadata": {
        "id": "goytREZP2N7J",
        "colab_type": "code",
        "colab": {
          "base_uri": "https://localhost:8080/",
          "height": 34
        },
        "outputId": "ace9d5af-70f7-46cd-cb31-3656de5dcd94"
      },
      "source": [
        "print(digit)"
      ],
      "execution_count": 40,
      "outputs": [
        {
          "output_type": "stream",
          "text": [
            "<_sre.SRE_Match object; span=(9, 21), match='408-555-1234'>\n"
          ],
          "name": "stdout"
        }
      ]
    },
    {
      "cell_type": "code",
      "metadata": {
        "id": "XxLMB-2-2R3G",
        "colab_type": "code",
        "colab": {
          "base_uri": "https://localhost:8080/",
          "height": 34
        },
        "outputId": "1bb94aee-075b-4b4a-84ad-20351498d5f0"
      },
      "source": [
        "digit.group()"
      ],
      "execution_count": 41,
      "outputs": [
        {
          "output_type": "execute_result",
          "data": {
            "text/plain": [
              "'408-555-1234'"
            ]
          },
          "metadata": {
            "tags": []
          },
          "execution_count": 41
        }
      ]
    },
    {
      "cell_type": "code",
      "metadata": {
        "id": "tlHSleIC2edF",
        "colab_type": "code",
        "colab": {
          "base_uri": "https://localhost:8080/",
          "height": 34
        },
        "outputId": "daceb682-3f22-44c3-d6e8-89a93cf7e50a"
      },
      "source": [
        "digit.group(1)"
      ],
      "execution_count": 43,
      "outputs": [
        {
          "output_type": "execute_result",
          "data": {
            "text/plain": [
              "'408'"
            ]
          },
          "metadata": {
            "tags": []
          },
          "execution_count": 43
        }
      ]
    },
    {
      "cell_type": "code",
      "metadata": {
        "id": "XhsGin0I6cw0",
        "colab_type": "code",
        "colab": {
          "base_uri": "https://localhost:8080/",
          "height": 34
        },
        "outputId": "2794220e-9166-4be2-a90f-ade571a351b2"
      },
      "source": [
        "re.search(r\"man|woman\", \"this man was here\")"
      ],
      "execution_count": 46,
      "outputs": [
        {
          "output_type": "execute_result",
          "data": {
            "text/plain": [
              "<_sre.SRE_Match object; span=(5, 8), match='man'>"
            ]
          },
          "metadata": {
            "tags": []
          },
          "execution_count": 46
        }
      ]
    },
    {
      "cell_type": "code",
      "metadata": {
        "id": "jggZx6yV7AkN",
        "colab_type": "code",
        "colab": {
          "base_uri": "https://localhost:8080/",
          "height": 34
        },
        "outputId": "68e62ebc-8c21-44e8-d14c-93c3ee088ba9"
      },
      "source": [
        "re.findall(r\"..man\", \"this man was here and woman too\")"
      ],
      "execution_count": 66,
      "outputs": [
        {
          "output_type": "execute_result",
          "data": {
            "text/plain": [
              "['s man', 'woman']"
            ]
          },
          "metadata": {
            "tags": []
          },
          "execution_count": 66
        }
      ]
    },
    {
      "cell_type": "code",
      "metadata": {
        "id": "KUaszE7-7RNr",
        "colab_type": "code",
        "colab": {
          "base_uri": "https://localhost:8080/",
          "height": 34
        },
        "outputId": "5a49c535-f205-4bce-c822-d22bda82ff31"
      },
      "source": [
        "re.findall(r\".at\", \"the cat had a hat in mat\")"
      ],
      "execution_count": 65,
      "outputs": [
        {
          "output_type": "execute_result",
          "data": {
            "text/plain": [
              "['cat', 'hat', 'mat']"
            ]
          },
          "metadata": {
            "tags": []
          },
          "execution_count": 65
        }
      ]
    },
    {
      "cell_type": "code",
      "metadata": {
        "id": "iBkWegKb78oQ",
        "colab_type": "code",
        "colab": {
          "base_uri": "https://localhost:8080/",
          "height": 34
        },
        "outputId": "a8561ff1-56c5-42cf-ec5c-7ee4d4788c0d"
      },
      "source": [
        "# ^ start and $ end \n",
        "re.findall(r\"\\d$\", \"this ends withnumber 2\")"
      ],
      "execution_count": 67,
      "outputs": [
        {
          "output_type": "execute_result",
          "data": {
            "text/plain": [
              "['2']"
            ]
          },
          "metadata": {
            "tags": []
          },
          "execution_count": 67
        }
      ]
    },
    {
      "cell_type": "code",
      "metadata": {
        "id": "QGvs--kW8XKo",
        "colab_type": "code",
        "colab": {
          "base_uri": "https://localhost:8080/",
          "height": 34
        },
        "outputId": "9769002c-56d9-4d7f-dfe6-a70fc60605e1"
      },
      "source": [
        "# ^ inside [] means exclude\n",
        "remove_number = \"There are 3 numbers in 45 sent\"\n",
        "re.findall(r\"[^\\d]+\", remove_number)"
      ],
      "execution_count": 70,
      "outputs": [
        {
          "output_type": "execute_result",
          "data": {
            "text/plain": [
              "['There are ', ' numbers in ', ' sent']"
            ]
          },
          "metadata": {
            "tags": []
          },
          "execution_count": 70
        }
      ]
    },
    {
      "cell_type": "code",
      "metadata": {
        "id": "1_Q1PrEf8vVC",
        "colab_type": "code",
        "colab": {}
      },
      "source": [
        "  # to remove puncutations\n",
        "  test_punk = \"This is a string! with . and ? to remove it\"\n",
        "  list = re.findall(r\"[^!.?]+\", test_punk)"
      ],
      "execution_count": 0,
      "outputs": []
    },
    {
      "cell_type": "code",
      "metadata": {
        "id": "BXkNICgE9dtJ",
        "colab_type": "code",
        "colab": {
          "base_uri": "https://localhost:8080/",
          "height": 34
        },
        "outputId": "128aa982-572e-4665-b4a8-623867ccf8e1"
      },
      "source": [
        "''.join(test_punk) "
      ],
      "execution_count": 73,
      "outputs": [
        {
          "output_type": "execute_result",
          "data": {
            "text/plain": [
              "'This is a string! with . and ? to remove it'"
            ]
          },
          "metadata": {
            "tags": []
          },
          "execution_count": 73
        }
      ]
    },
    {
      "cell_type": "code",
      "metadata": {
        "id": "2-2fW3Tq9qlw",
        "colab_type": "code",
        "colab": {
          "base_uri": "https://localhost:8080/",
          "height": 34
        },
        "outputId": "80ca96e2-8cd5-4a2a-cf86-714571e684a0"
      },
      "source": [
        "text = \"Only find the hypen-words. Where-are words?\"\n",
        "re.findall(r\"[^-]+\", text)"
      ],
      "execution_count": 74,
      "outputs": [
        {
          "output_type": "execute_result",
          "data": {
            "text/plain": [
              "['Only find the hypen', 'words. Where', 'are words?']"
            ]
          },
          "metadata": {
            "tags": []
          },
          "execution_count": 74
        }
      ]
    },
    {
      "cell_type": "code",
      "metadata": {
        "id": "ycMXpVPWABAB",
        "colab_type": "code",
        "colab": {
          "base_uri": "https://localhost:8080/",
          "height": 34
        },
        "outputId": "2dd8d7d9-b9c6-49a2-841f-6a9ae6cda44e"
      },
      "source": [
        "text = \"Only find the hypen-words. Where-are words?\"\n",
        "re.findall(r\"[\\w-]+-[\\w]\", text)"
      ],
      "execution_count": 79,
      "outputs": [
        {
          "output_type": "execute_result",
          "data": {
            "text/plain": [
              "['hypen-w', 'Where-a']"
            ]
          },
          "metadata": {
            "tags": []
          },
          "execution_count": 79
        }
      ]
    },
    {
      "cell_type": "code",
      "metadata": {
        "id": "pAOa245BAQWz",
        "colab_type": "code",
        "colab": {}
      },
      "source": [
        "#assessment"
      ],
      "execution_count": 0,
      "outputs": []
    },
    {
      "cell_type": "code",
      "metadata": {
        "id": "yIV7LvA_BDWX",
        "colab_type": "code",
        "colab": {
          "base_uri": "https://localhost:8080/",
          "height": 34
        },
        "outputId": "dcc72e5f-5d60-4d38-f4a3-3c398963ff7b"
      },
      "source": [
        " abbr= \"NLP\"\n",
        " full_text = \"Natural Language Processing\"\n",
        "\n",
        " print(f\"{abbr} stands for {full_text}\")"
      ],
      "execution_count": 82,
      "outputs": [
        {
          "output_type": "stream",
          "text": [
            "NLP stands for Natural Language Processing\n"
          ],
          "name": "stdout"
        }
      ]
    },
    {
      "cell_type": "code",
      "metadata": {
        "id": "Pn1i35VPCwx4",
        "colab_type": "code",
        "colab": {
          "base_uri": "https://localhost:8080/",
          "height": 34
        },
        "outputId": "af4d8653-4d73-4c28-feef-a195a7ff6341"
      },
      "source": [
        "%%writefile cont.txt\n",
        "first_name, last_name, title, extension, email\n",
        "file = open(contacts.txt)\n",
        "\n",
        "with open('contacts.txt') as f:\n",
        "  fields = f.read()"
      ],
      "execution_count": 97,
      "outputs": [
        {
          "output_type": "stream",
          "text": [
            "Overwriting contacts.txt\n"
          ],
          "name": "stdout"
        }
      ]
    },
    {
      "cell_type": "code",
      "metadata": {
        "id": "u0Q7gMjiDSyw",
        "colab_type": "code",
        "colab": {
          "base_uri": "https://localhost:8080/",
          "height": 34
        },
        "outputId": "da62e3ab-ff2f-4f78-be20-fd73dc417f2a"
      },
      "source": [
        "email= \"abc@company.com\"\n",
        "pattern = r'[\\w]+@[\\w]+.[\\w]+'\n",
        "re.findall(pattern, email)"
      ],
      "execution_count": 102,
      "outputs": [
        {
          "output_type": "execute_result",
          "data": {
            "text/plain": [
              "['abc@company.com']"
            ]
          },
          "metadata": {
            "tags": []
          },
          "execution_count": 102
        }
      ]
    },
    {
      "cell_type": "code",
      "metadata": {
        "id": "ZLOzy0TsFEeQ",
        "colab_type": "code",
        "colab": {}
      },
      "source": [
        ""
      ],
      "execution_count": 0,
      "outputs": []
    }
  ]
}