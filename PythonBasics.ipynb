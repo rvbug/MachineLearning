{
 "cells": [
  {
   "cell_type": "code",
   "execution_count": null,
   "metadata": {
    "colab": {},
    "colab_type": "code",
    "id": "WknxSfP3rrS9"
   },
   "outputs": [],
   "source": [
    "#Chapter 2.3\n",
    "import keyword"
   ]
  },
  {
   "cell_type": "code",
   "execution_count": null,
   "metadata": {
    "colab": {
     "base_uri": "https://localhost:8080/",
     "height": 54
    },
    "colab_type": "code",
    "id": "LMcbrCrDsPok",
    "outputId": "1f6b3d38-0525-4ab9-dfe3-fd71f990ec54"
   },
   "outputs": [],
   "source": [
    "print(keyword.kwlist)"
   ]
  },
  {
   "cell_type": "code",
   "execution_count": null,
   "metadata": {
    "colab": {
     "base_uri": "https://localhost:8080/",
     "height": 51
    },
    "colab_type": "code",
    "id": "3vcsAPA-sP1I",
    "outputId": "6d9b41c9-35ad-46a3-e2f5-135970ab2e89"
   },
   "outputs": [],
   "source": [
    "print(\"\\n Number of keywords are :\",len(keyword.kwlist))"
   ]
  },
  {
   "cell_type": "code",
   "execution_count": null,
   "metadata": {
    "colab": {
     "base_uri": "https://localhost:8080/",
     "height": 34
    },
    "colab_type": "code",
    "id": "kaXWVm0ysP5D",
    "outputId": "c4b6b1f4-ad2a-415c-9b7d-271c5121567c"
   },
   "outputs": [],
   "source": [
    "#Chapter 2.4\n",
    "\n",
    "# comments are either this or\n",
    "\n",
    "'''\n",
    "Comments can also be \n",
    "on the multiline\n",
    "'''"
   ]
  },
  {
   "cell_type": "code",
   "execution_count": null,
   "metadata": {
    "colab": {
     "base_uri": "https://localhost:8080/",
     "height": 374
    },
    "colab_type": "code",
    "id": "1sD61PcTsP8i",
    "outputId": "358e45de-0ffd-4792-86d6-a86b33d87bf2"
   },
   "outputs": [],
   "source": [
    "#indentation\n",
    "for i in range(10):\n",
    "  print (i)\n",
    "  print (i*2)\n",
    "print (100)  # not in the for loop"
   ]
  },
  {
   "cell_type": "code",
   "execution_count": null,
   "metadata": {
    "colab": {
     "base_uri": "https://localhost:8080/",
     "height": 34
    },
    "colab_type": "code",
    "id": "0ldM4Y7DNpl9",
    "outputId": "021c3245-193b-420e-c532-7420cc4b6ec7"
   },
   "outputs": [],
   "source": [
    "#multi line statement either with \\ or with \"()\"\n",
    "\n",
    "a = 1+2+3 +\\\n",
    "4+5+6 + \\\n",
    "7+8+9\n",
    "\n",
    "a = (1+2+3+\n",
    "     4+5+6+\n",
    "     7+8+9)\n",
    "\n",
    "\n",
    "print(a)\n"
   ]
  },
  {
   "cell_type": "code",
   "execution_count": null,
   "metadata": {
    "colab": {},
    "colab_type": "code",
    "id": "sMCebwdBOpo3"
   },
   "outputs": [],
   "source": [
    "# multiple statement in single line\n",
    "a = 10 ; b=11; c = 13"
   ]
  },
  {
   "cell_type": "code",
   "execution_count": null,
   "metadata": {
    "colab": {},
    "colab_type": "code",
    "id": "-PIvhny5PP6d"
   },
   "outputs": [],
   "source": [
    "#Chapter 2.5 - Variables and data types\n",
    "\n",
    "a = 10 #integer\n",
    "b = 5.5 #float\n",
    "c = \"ML\" #string\n",
    "\n",
    "#or another way of writing is\n",
    "a, b, c = 10, 5.5, \"ML\"\n",
    "\n"
   ]
  },
  {
   "cell_type": "code",
   "execution_count": null,
   "metadata": {
    "colab": {},
    "colab_type": "code",
    "id": "w7GLvITfQ-uF"
   },
   "outputs": [],
   "source": [
    "#Storage location"
   ]
  },
  {
   "cell_type": "code",
   "execution_count": null,
   "metadata": {
    "colab": {
     "base_uri": "https://localhost:8080/",
     "height": 34
    },
    "colab_type": "code",
    "id": "q9JoyIg2Q_AR",
    "outputId": "e1b854a1-1f6a-47b5-902e-f8f9fdacc3df"
   },
   "outputs": [],
   "source": [
    "x = 3\n",
    "print(id(x))"
   ]
  },
  {
   "cell_type": "code",
   "execution_count": null,
   "metadata": {
    "colab": {
     "base_uri": "https://localhost:8080/",
     "height": 34
    },
    "colab_type": "code",
    "id": "ZgVBs-PzRDM7",
    "outputId": "e3149012-819b-4b03-e1c4-ba021f35cd16"
   },
   "outputs": [],
   "source": [
    "y = 3\n",
    "print(id(y))"
   ]
  },
  {
   "cell_type": "code",
   "execution_count": null,
   "metadata": {
    "colab": {
     "base_uri": "https://localhost:8080/",
     "height": 34
    },
    "colab_type": "code",
    "id": "s2_06VRTRGa7",
    "outputId": "bd17fea0-e17f-4346-ed56-82c68c0cff05"
   },
   "outputs": [],
   "source": [
    "a = 3\n",
    "print (type(a))"
   ]
  },
  {
   "cell_type": "code",
   "execution_count": null,
   "metadata": {
    "colab": {
     "base_uri": "https://localhost:8080/",
     "height": 34
    },
    "colab_type": "code",
    "id": "wRh-loWSStLm",
    "outputId": "cad817ac-2671-4ca0-d6d6-63af9aac572b"
   },
   "outputs": [],
   "source": [
    "a = 5.5\n",
    "print(type(a))"
   ]
  },
  {
   "cell_type": "code",
   "execution_count": null,
   "metadata": {
    "colab": {
     "base_uri": "https://localhost:8080/",
     "height": 51
    },
    "colab_type": "code",
    "id": "saU006tkSwWM",
    "outputId": "236b65e9-c4e5-4610-a07a-8b1ae53a0047"
   },
   "outputs": [],
   "source": [
    "a = 1+2j\n",
    "print(type(a))\n",
    "print(isinstance(a, complex)) #check the instance if it is complex then prints out as True"
   ]
  },
  {
   "cell_type": "code",
   "execution_count": null,
   "metadata": {
    "colab": {
     "base_uri": "https://localhost:8080/",
     "height": 34
    },
    "colab_type": "code",
    "id": "SEZiO_pSS0Oc",
    "outputId": "c10c5daa-6d24-4831-814f-7c914f23479f"
   },
   "outputs": [],
   "source": [
    "a = True\n",
    "print(type(a))"
   ]
  },
  {
   "cell_type": "code",
   "execution_count": null,
   "metadata": {
    "colab": {
     "base_uri": "https://localhost:8080/",
     "height": 34
    },
    "colab_type": "code",
    "id": "5E3hN03pTM2W",
    "outputId": "30eb2d2b-7856-4523-f504-5825ff8632bc"
   },
   "outputs": [],
   "source": [
    "a = \"This is our AI course\" # can also be single quote char\n",
    "print(type(a))"
   ]
  },
  {
   "cell_type": "code",
   "execution_count": null,
   "metadata": {
    "colab": {
     "base_uri": "https://localhost:8080/",
     "height": 68
    },
    "colab_type": "code",
    "id": "5d3lGT4JTsuz",
    "outputId": "9f943c44-55ab-491e-ff32-e159a8bc1057"
   },
   "outputs": [],
   "source": [
    "a = \"\"\"AIIC course\n",
    "    this is our multiple line\"\"\"\n",
    "print(a)\n",
    "print(type(a))"
   ]
  },
  {
   "cell_type": "code",
   "execution_count": null,
   "metadata": {
    "colab": {
     "base_uri": "https://localhost:8080/",
     "height": 34
    },
    "colab_type": "code",
    "id": "UNbX1diLUTPB",
    "outputId": "6aaff652-40ea-492c-a1d5-9a934249b3d0"
   },
   "outputs": [],
   "source": [
    "#print(a[3]) #prints c\n",
    "print(a[-1]) #prints the last char i.e. e and from there -1, -2, etc etc"
   ]
  },
  {
   "cell_type": "code",
   "execution_count": null,
   "metadata": {
    "colab": {
     "base_uri": "https://localhost:8080/",
     "height": 51
    },
    "colab_type": "code",
    "id": "ID8l9eCpUoAa",
    "outputId": "c3fb3f37-7ad4-43c1-bb34-1fc2420b9f5a"
   },
   "outputs": [],
   "source": [
    "#print everything from 5 onwards\n",
    "print(a[5:])"
   ]
  },
  {
   "cell_type": "code",
   "execution_count": null,
   "metadata": {
    "colab": {
     "base_uri": "https://localhost:8080/",
     "height": 34
    },
    "colab_type": "code",
    "id": "lYmf-q0SVdHO",
    "outputId": "98f1f52d-525e-4eff-8b74-3e115108ecf1"
   },
   "outputs": [],
   "source": [
    "# print from 5 to 9th and not till 10th\n",
    "print(a[5:10])"
   ]
  },
  {
   "cell_type": "code",
   "execution_count": null,
   "metadata": {
    "colab": {
     "base_uri": "https://localhost:8080/",
     "height": 34
    },
    "colab_type": "code",
    "id": "wHBNzoKcZbDI",
    "outputId": "f0586ff9-1c19-4875-9d6e-50971d568615"
   },
   "outputs": [],
   "source": [
    "#python list\n",
    "\n",
    "a = [10, 2.5, \"AI\"]\n",
    "print(a[1])"
   ]
  },
  {
   "cell_type": "code",
   "execution_count": null,
   "metadata": {
    "colab": {
     "base_uri": "https://localhost:8080/",
     "height": 51
    },
    "colab_type": "code",
    "id": "r3nO_iyEaIa4",
    "outputId": "e0601f85-620a-443b-f6b7-b1fdfbe1df09"
   },
   "outputs": [],
   "source": [
    "#lists are mutable\n",
    "a[1] = 30.1\n",
    "print(a)\n",
    "print(type(a))"
   ]
  },
  {
   "cell_type": "code",
   "execution_count": null,
   "metadata": {
    "colab": {
     "base_uri": "https://localhost:8080/",
     "height": 68
    },
    "colab_type": "code",
    "id": "--go4NVEao2Y",
    "outputId": "2554bd97-4202-40a3-eff1-a302393b8b8f"
   },
   "outputs": [],
   "source": [
    "#tuples\n",
    "z = (10, 1.5, \"ML\")\n",
    "print(z[2])\n",
    "print(z)\n",
    "print(type(z))"
   ]
  },
  {
   "cell_type": "code",
   "execution_count": null,
   "metadata": {
    "colab": {
     "base_uri": "https://localhost:8080/",
     "height": 51
    },
    "colab_type": "code",
    "id": "L0G72FFFcvqj",
    "outputId": "b4e9b130-0b7f-448c-8287-d41f9283300f"
   },
   "outputs": [],
   "source": [
    "y = {10, 17, 2, 3}\n",
    "print(y)\n",
    "print(type(y))"
   ]
  },
  {
   "cell_type": "code",
   "execution_count": null,
   "metadata": {
    "colab": {
     "base_uri": "https://localhost:8080/",
     "height": 34
    },
    "colab_type": "code",
    "id": "-8ZCzmJqgErW",
    "outputId": "3b55442d-6dc9-4214-b5a2-6ba8ebf6fb26"
   },
   "outputs": [],
   "source": [
    "#set storing only unique values\n",
    "w = {1,1,2,3,4,5,6,7,7,7,7}\n",
    "print(w)"
   ]
  },
  {
   "cell_type": "code",
   "execution_count": null,
   "metadata": {
    "colab": {
     "base_uri": "https://localhost:8080/",
     "height": 85
    },
    "colab_type": "code",
    "id": "9BzVAj8Lhtt2",
    "outputId": "8f95b96a-b61c-48f1-9d33-10f3dbc7d9e6"
   },
   "outputs": [],
   "source": [
    "#dictionary\n",
    "d = {'a':\"apple\", 'b':\"bat\", '1': \"20\"}\n",
    "print(d)\n",
    "print(type(d))\n",
    "print(d['1'])\n",
    "print(d['a'])"
   ]
  },
  {
   "cell_type": "code",
   "execution_count": null,
   "metadata": {
    "colab": {
     "base_uri": "https://localhost:8080/",
     "height": 34
    },
    "colab_type": "code",
    "id": "ShhZj9smj1ml",
    "outputId": "99ea5501-5042-47c6-eb11-6a83ae01e23a"
   },
   "outputs": [],
   "source": [
    "float(5)"
   ]
  },
  {
   "cell_type": "code",
   "execution_count": null,
   "metadata": {
    "colab": {
     "base_uri": "https://localhost:8080/",
     "height": 34
    },
    "colab_type": "code",
    "id": "auKtRbN8kmou",
    "outputId": "e4b6641e-d770-43d2-fb6a-12dcd3776d32"
   },
   "outputs": [],
   "source": [
    "int(100.5)"
   ]
  },
  {
   "cell_type": "code",
   "execution_count": null,
   "metadata": {
    "colab": {
     "base_uri": "https://localhost:8080/",
     "height": 34
    },
    "colab_type": "code",
    "id": "RkuH5fqtkoLG",
    "outputId": "2af113a3-f071-47e4-b04b-363bece89d66"
   },
   "outputs": [],
   "source": [
    "str(100)"
   ]
  },
  {
   "cell_type": "code",
   "execution_count": null,
   "metadata": {
    "colab": {
     "base_uri": "https://localhost:8080/",
     "height": 119
    },
    "colab_type": "code",
    "id": "F2ZgfuLzkp_-",
    "outputId": "4b38ea97-4a9a-4501-d23e-177aad8ac9e4"
   },
   "outputs": [],
   "source": [
    "#conversion\n",
    "\n",
    "s = [1,2,3]\n",
    "print(type(s))\n",
    "\n",
    "a = set(s)\n",
    "print(type(a))\n",
    "\n",
    "#conversion from sting to list\n",
    "f = \"hello\"\n",
    "print(type(f))\n",
    "print(f)\n",
    "print(type(f))\n",
    "f = list(f)\n",
    "print(f)"
   ]
  },
  {
   "cell_type": "code",
   "execution_count": null,
   "metadata": {
    "colab": {
     "base_uri": "https://localhost:8080/",
     "height": 34
    },
    "colab_type": "code",
    "id": "8IMBRd7Dm4uT",
    "outputId": "f6b329aa-6406-4821-b3b1-7e2bd451e58a"
   },
   "outputs": [],
   "source": [
    "#python input and output\n",
    "\n",
    "print(\"hello world\")"
   ]
  },
  {
   "cell_type": "code",
   "execution_count": null,
   "metadata": {
    "colab": {
     "base_uri": "https://localhost:8080/",
     "height": 51
    },
    "colab_type": "code",
    "id": "7s6Zemo5XewP",
    "outputId": "4c553665-ee4a-4223-dcc9-00b40bb05531"
   },
   "outputs": [],
   "source": [
    "a = 10\n",
    "print (\"value of a in int is\", a)\n",
    "print (\"value of a in str is\" + str(a))\n"
   ]
  },
  {
   "cell_type": "code",
   "execution_count": null,
   "metadata": {
    "colab": {
     "base_uri": "https://localhost:8080/",
     "height": 51
    },
    "colab_type": "code",
    "id": "PFS1hYnFXez6",
    "outputId": "8d922dfb-2b73-4028-89cd-6f47f7172655"
   },
   "outputs": [],
   "source": [
    "b = 20; c= 45\n",
    "print(\"The value of b is {} and the value of c is {}\".format(b,c))\n",
    "print(\"the new values of a is {2} b is {1} and c is {0}\".format(a,b,c)) #change the values by changing the arguments"
   ]
  },
  {
   "cell_type": "code",
   "execution_count": null,
   "metadata": {
    "colab": {
     "base_uri": "https://localhost:8080/",
     "height": 51
    },
    "colab_type": "code",
    "id": "gLFpAHIHXe5g",
    "outputId": "06943b8a-5d52-43a1-c68c-851e7ca37e17"
   },
   "outputs": [],
   "source": [
    "print(\"hello good morning {0}, welcome to {1} course\".format('rakesh', 'AI'))\n",
    "print(\"hello good morning {name}, welcome to {course} course\".format(name='rakesh', course='AI'))\n"
   ]
  },
  {
   "cell_type": "code",
   "execution_count": null,
   "metadata": {
    "colab": {
     "base_uri": "https://localhost:8080/",
     "height": 51
    },
    "colab_type": "code",
    "id": "0K7cEPKPXe82",
    "outputId": "42822e7a-e85e-4b26-a042-8c7a7e12ed08"
   },
   "outputs": [],
   "source": [
    "num = input(\"Enter a number\")\n",
    "print(num)"
   ]
  },
  {
   "cell_type": "code",
   "execution_count": null,
   "metadata": {
    "colab": {},
    "colab_type": "code",
    "id": "JFjh4sXwarQz"
   },
   "outputs": [],
   "source": [
    "#Operators"
   ]
  },
  {
   "cell_type": "code",
   "execution_count": null,
   "metadata": {
    "colab": {
     "base_uri": "https://localhost:8080/",
     "height": 68
    },
    "colab_type": "code",
    "id": "eNcNdftuarT0",
    "outputId": "52acf483-b86f-45c3-942b-b025e4c8908a"
   },
   "outputs": [],
   "source": [
    "x,y = 10,20\n",
    "print(x+y)\n",
    "print(x-y)\n",
    "print(x*y)"
   ]
  },
  {
   "cell_type": "code",
   "execution_count": null,
   "metadata": {
    "colab": {
     "base_uri": "https://localhost:8080/",
     "height": 85
    },
    "colab_type": "code",
    "id": "ymiPOsrTarYn",
    "outputId": "9e0e7981-28ac-42c5-ff40-c09db64f6520"
   },
   "outputs": [],
   "source": [
    "#modulo\n",
    "print(15%2)\n",
    "#floor\n",
    "print (15//2) \n",
    "print(-15//2)\n",
    "print(15/-2) #need to check this"
   ]
  },
  {
   "cell_type": "code",
   "execution_count": null,
   "metadata": {
    "colab": {
     "base_uri": "https://localhost:8080/",
     "height": 34
    },
    "colab_type": "code",
    "id": "_e7Yy6Zbarbc",
    "outputId": "106807d0-a310-4085-d67e-fa9e5d2f8111"
   },
   "outputs": [],
   "source": [
    "a,b = 10, 20\n",
    "print(a<b)"
   ]
  },
  {
   "cell_type": "code",
   "execution_count": null,
   "metadata": {
    "colab": {
     "base_uri": "https://localhost:8080/",
     "height": 51
    },
    "colab_type": "code",
    "id": "JE3BGyLparfM",
    "outputId": "07bc9a4f-f19a-4ef3-d0d2-8637eb3d3eb0"
   },
   "outputs": [],
   "source": [
    "a, b = True, False\n",
    "print(a and b)\n",
    "print(a or b)"
   ]
  },
  {
   "cell_type": "code",
   "execution_count": null,
   "metadata": {
    "colab": {
     "base_uri": "https://localhost:8080/",
     "height": 51
    },
    "colab_type": "code",
    "id": "quFIoHSCarW2",
    "outputId": "06b34aae-a937-43df-98e5-96772139599f"
   },
   "outputs": [],
   "source": [
    "#binary\n",
    "a, b = 10, 4\n",
    "print (a & b)\n",
    "print (a | b)"
   ]
  },
  {
   "cell_type": "code",
   "execution_count": null,
   "metadata": {
    "colab": {
     "base_uri": "https://localhost:8080/",
     "height": 34
    },
    "colab_type": "code",
    "id": "SgODwsT-e6Sh",
    "outputId": "2e0e773d-e986-4e29-c360-f370541af94c"
   },
   "outputs": [],
   "source": [
    "a += 10\n",
    "print(a)"
   ]
  },
  {
   "cell_type": "code",
   "execution_count": null,
   "metadata": {
    "colab": {
     "base_uri": "https://localhost:8080/",
     "height": 68
    },
    "colab_type": "code",
    "id": "X6cH2bjIfITu",
    "outputId": "7363ddeb-ba15-46f5-a410-6841688a3582"
   },
   "outputs": [],
   "source": [
    "a = 5\n",
    "b = 5\n",
    "print(a is b)\n",
    "\n",
    "q1 = [1,2,3]\n",
    "w1 = [1,2,3]\n",
    "print(q1 is w1)\n",
    "\n",
    "e1 = \"AAIC\"\n",
    "r1 = \"AAIC\"\n",
    "print(e1 is r1)"
   ]
  },
  {
   "cell_type": "code",
   "execution_count": null,
   "metadata": {
    "colab": {
     "base_uri": "https://localhost:8080/",
     "height": 51
    },
    "colab_type": "code",
    "id": "l9PoSV9mgKJ4",
    "outputId": "590f3793-db09-4609-d60b-fe1d95b6838e"
   },
   "outputs": [],
   "source": [
    "t = [1,2,3,4,5, \"st\"]\n",
    "print (\"st\" in t)\n",
    "print (6 in t)"
   ]
  },
  {
   "cell_type": "code",
   "execution_count": null,
   "metadata": {
    "colab": {
     "base_uri": "https://localhost:8080/",
     "height": 51
    },
    "colab_type": "code",
    "id": "4cAgk3alhTEv",
    "outputId": "e1832499-5b13-4d74-a561-de42489a3b5f"
   },
   "outputs": [],
   "source": [
    "y = {a : \"data1\", b : \"beta1\"}\n",
    "print (a in y)\n",
    "print (\"data\" in y) #can only check for keys and not for values"
   ]
  },
  {
   "cell_type": "code",
   "execution_count": null,
   "metadata": {
    "colab": {
     "base_uri": "https://localhost:8080/",
     "height": 51
    },
    "colab_type": "code",
    "id": "WFmfsKG2huZY",
    "outputId": "d8852324-6a33-444f-96ca-7bd6b8801f4b"
   },
   "outputs": [],
   "source": [
    "# control flow\n",
    "\n",
    "a = 15\n",
    "if (a > 10):\n",
    "  print (\"zzzz\")\n",
    "print(\"Always print\")\n"
   ]
  },
  {
   "cell_type": "code",
   "execution_count": null,
   "metadata": {
    "colab": {
     "base_uri": "https://localhost:8080/",
     "height": 34
    },
    "colab_type": "code",
    "id": "m_4UwQxGi1IU",
    "outputId": "604781fc-67d7-46b6-a467-298a55608ab3"
   },
   "outputs": [],
   "source": [
    "y = 20\n",
    "\n",
    "if (y > 25):\n",
    "  print(\"This\")\n",
    "else:\n",
    "  print (\"That\")"
   ]
  },
  {
   "cell_type": "code",
   "execution_count": null,
   "metadata": {
    "colab": {
     "base_uri": "https://localhost:8080/",
     "height": 34
    },
    "colab_type": "code",
    "id": "SjFx7fFsjCXW",
    "outputId": "ab4df276-2e72-4e00-8186-fcdbd94c51f2"
   },
   "outputs": [],
   "source": [
    "nuke = 10\n",
    "if (nuke > 0):\n",
    "  print(\"+ve number\")\n",
    "elif (nuke == 0):\n",
    "  print(\"zero\")\n",
    "else:\n",
    "  print(\"-ve number\")\n",
    "  \n"
   ]
  },
  {
   "cell_type": "code",
   "execution_count": null,
   "metadata": {
    "colab": {
     "base_uri": "https://localhost:8080/",
     "height": 204
    },
    "colab_type": "code",
    "id": "49HNw9MZjliY",
    "outputId": "ed844c66-fe59-422f-bcee-cd457917ce86"
   },
   "outputs": [],
   "source": [
    "#while loop\n",
    "\n",
    "lst = [10,20,30,40,50]\n",
    "product = 1\n",
    "index = 0\n",
    "\n",
    "while index < len(lst):\n",
    "  print(\"product is {}\".format(product))\n",
    "  print (\"index is {}\".format(index))\n",
    "  product = product * lst[index]\n",
    "  index +=1\n",
    "  \n",
    "print(\"final product is {}\".format(product))  \n"
   ]
  },
  {
   "cell_type": "code",
   "execution_count": null,
   "metadata": {
    "colab": {},
    "colab_type": "code",
    "id": "7MgOKnZ4lezn"
   },
   "outputs": [],
   "source": [
    "#if the given number is prime or no\n",
    "\n",
    "number_input = int(input(\"Enter a number\"))\n",
    "\n",
    "index = 2\n",
    "\n",
    "while index < number_input:\n",
    "  if(number_input % index) :\n",
    "    print(\"The number {} is divisble by {}\".format())\n",
    "\n"
   ]
  },
  {
   "cell_type": "code",
   "execution_count": null,
   "metadata": {
    "colab": {
     "base_uri": "https://localhost:8080/",
     "height": 187
    },
    "colab_type": "code",
    "id": "9S4SeuqQqHTo",
    "outputId": "437b8fa2-9c08-43d7-f576-2ee852d4a21f"
   },
   "outputs": [],
   "source": [
    "for i in range(10):\n",
    "  print(i)"
   ]
  },
  {
   "cell_type": "code",
   "execution_count": null,
   "metadata": {},
   "outputs": [],
   "source": [
    "# tuple unpacking"
   ]
  },
  {
   "cell_type": "code",
   "execution_count": null,
   "metadata": {
    "colab": {},
    "colab_type": "code",
    "id": "8wVTOb5NqHXg"
   },
   "outputs": [],
   "source": [
    "library = [{\"Author\", \"topic\", \"pages\"},\n",
    "           {'Twain', \"Rafting in Water alone\", 600},\n",
    "           {'Feynman', \"Physics\", 95},\n",
    "           {\"Einstein\", \"e=mc2\", 200 }\n",
    "           ]"
   ]
  },
  {
   "cell_type": "code",
   "execution_count": null,
   "metadata": {},
   "outputs": [],
   "source": [
    "print(library)"
   ]
  },
  {
   "cell_type": "code",
   "execution_count": 4,
   "metadata": {},
   "outputs": [
    {
     "name": "stdout",
     "output_type": "stream",
     "text": [
      "Writing test.txt\n"
     ]
    }
   ],
   "source": [
    "%%writefile test.txt\n",
    "This is a test file and this file contains all info\n",
    "This is the second file "
   ]
  },
  {
   "cell_type": "code",
   "execution_count": 7,
   "metadata": {},
   "outputs": [],
   "source": [
    "file = open(\"test.txt\")"
   ]
  },
  {
   "cell_type": "code",
   "execution_count": 8,
   "metadata": {},
   "outputs": [
    {
     "data": {
      "text/plain": [
       "'This is a test file and this file contains all info\\nThis is the second file \\n'"
      ]
     },
     "execution_count": 8,
     "metadata": {},
     "output_type": "execute_result"
    }
   ],
   "source": [
    "file.read()"
   ]
  },
  {
   "cell_type": "code",
   "execution_count": 9,
   "metadata": {},
   "outputs": [
    {
     "data": {
      "text/plain": [
       "0"
      ]
     },
     "execution_count": 9,
     "metadata": {},
     "output_type": "execute_result"
    }
   ],
   "source": [
    "# now the file pointer is at the end\n",
    "file.seek(0) # will take it back to the begining of the file"
   ]
  },
  {
   "cell_type": "code",
   "execution_count": 10,
   "metadata": {},
   "outputs": [],
   "source": [
    "content = file.read()"
   ]
  },
  {
   "cell_type": "code",
   "execution_count": 11,
   "metadata": {},
   "outputs": [
    {
     "name": "stdout",
     "output_type": "stream",
     "text": [
      "This is a test file and this file contains all info\n",
      "This is the second file \n",
      "\n"
     ]
    }
   ],
   "source": [
    "print(content)"
   ]
  },
  {
   "cell_type": "code",
   "execution_count": 17,
   "metadata": {},
   "outputs": [
    {
     "data": {
      "text/plain": [
       "0"
      ]
     },
     "execution_count": 17,
     "metadata": {},
     "output_type": "execute_result"
    }
   ],
   "source": [
    "file.seek(0)"
   ]
  },
  {
   "cell_type": "code",
   "execution_count": 18,
   "metadata": {},
   "outputs": [
    {
     "data": {
      "text/plain": [
       "['This is a test file and this file contains all info\\n',\n",
       " 'This is the second file \\n']"
      ]
     },
     "execution_count": 18,
     "metadata": {},
     "output_type": "execute_result"
    }
   ],
   "source": [
    "# converted to list\n",
    "file.readlines()"
   ]
  },
  {
   "cell_type": "code",
   "execution_count": 33,
   "metadata": {},
   "outputs": [
    {
     "data": {
      "text/plain": [
       "0"
      ]
     },
     "execution_count": 33,
     "metadata": {},
     "output_type": "execute_result"
    }
   ],
   "source": [
    "file.seek(0)"
   ]
  },
  {
   "cell_type": "code",
   "execution_count": 36,
   "metadata": {},
   "outputs": [],
   "source": [
    "lines = file.readlines()"
   ]
  },
  {
   "cell_type": "code",
   "execution_count": 37,
   "metadata": {},
   "outputs": [
    {
     "name": "stdout",
     "output_type": "stream",
     "text": [
      "T\n"
     ]
    }
   ],
   "source": [
    "for line in lines:\n",
    "    print(line[0])"
   ]
  },
  {
   "cell_type": "code",
   "execution_count": 38,
   "metadata": {},
   "outputs": [],
   "source": [
    "# to close the file\n",
    "file.close()"
   ]
  }
 ],
 "metadata": {
  "colab": {
   "collapsed_sections": [],
   "name": "1. PythonBasics.ipynb",
   "provenance": []
  },
  "kernelspec": {
   "display_name": "Python [default]",
   "language": "python",
   "name": "python3"
  },
  "language_info": {
   "codemirror_mode": {
    "name": "ipython",
    "version": 3
   },
   "file_extension": ".py",
   "mimetype": "text/x-python",
   "name": "python",
   "nbconvert_exporter": "python",
   "pygments_lexer": "ipython3",
   "version": "3.6.7"
  }
 },
 "nbformat": 4,
 "nbformat_minor": 4
}
